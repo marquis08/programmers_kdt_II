{
 "cells": [
  {
   "cell_type": "markdown",
   "metadata": {},
   "source": [
    "# 2. 파이썬으로 데이터 주무르기, pandas\n",
    "**pandas를 활용해서 데이터프레임을 다뤄봅시다.**"
   ]
  },
  {
   "cell_type": "markdown",
   "metadata": {},
   "source": [
    "1. Pandas 시작하기\n",
    "    - prerequisite : Table\n",
    "    - pandas import하기\n",
    "   \n",
    "2. Pandas로 1차원 데이터 다루기 - Series \n",
    "    - Series 선언하기\n",
    "    - Series vs ndarray\n",
    "    - Series vs dict\n",
    "    - Series에 이름 붙이기\n",
    "3. Pandas로 2차원 데이터 다루기 - dataframe\n",
    "    - dataframe 선언하기\n",
    "    - from csv to dataframe\n",
    "    - dataframe 자료 접근하기\n",
    "\n",
    "[수업에 사용된 covid 데이터](https://www.kaggle.com/imdevskp/corona-virus-report)"
   ]
  },
  {
   "cell_type": "markdown",
   "metadata": {},
   "source": [
    "## I. pandas 시작하기"
   ]
  },
  {
   "cell_type": "markdown",
   "metadata": {},
   "source": [
    "## II. pandas로 1차원 데이터 다루기 - Series"
   ]
  },
  {
   "cell_type": "markdown",
   "metadata": {},
   "source": [
    "## III. Pandas로 2차원 데이터 다루기 - dataframe"
   ]
  },
  {
   "cell_type": "markdown",
   "metadata": {},
   "source": [
    "## Mission:\n",
    "### 1. covid 데이터에서 100 case 대비 사망률(`Deaths / 100 Cases`)이 가장 높은 국가는?"
   ]
  },
  {
   "cell_type": "code",
   "execution_count": 20,
   "metadata": {},
   "outputs": [
    {
     "output_type": "display_data",
     "data": {
      "text/plain": "     Country/Region  Confirmed  Deaths  Recovered  Active  New cases  \\\n184           Yemen       1691     483        833     375         10   \n177  United Kingdom     301708   45844       1437  254427        688   \n16          Belgium      66428    9822      17452   39154        402   \n\n     New deaths  New recovered  Deaths / 100 Cases  Recovered / 100 Cases  \\\n184           4             36               28.56                  49.26   \n177           7              3               15.19                   0.48   \n16            1             14               14.79                  26.27   \n\n     Deaths / 100 Recovered  Confirmed last week  1 week change  \\\n184                   57.98                 1619             72   \n177                 3190.26               296944           4764   \n16                    56.28                64094           2334   \n\n     1 week % increase             WHO Region  \n184               4.45  Eastern Mediterranean  \n177               1.60                 Europe  \n16                3.64                 Europe  ",
      "text/html": "<div>\n<style scoped>\n    .dataframe tbody tr th:only-of-type {\n        vertical-align: middle;\n    }\n\n    .dataframe tbody tr th {\n        vertical-align: top;\n    }\n\n    .dataframe thead th {\n        text-align: right;\n    }\n</style>\n<table border=\"1\" class=\"dataframe\">\n  <thead>\n    <tr style=\"text-align: right;\">\n      <th></th>\n      <th>Country/Region</th>\n      <th>Confirmed</th>\n      <th>Deaths</th>\n      <th>Recovered</th>\n      <th>Active</th>\n      <th>New cases</th>\n      <th>New deaths</th>\n      <th>New recovered</th>\n      <th>Deaths / 100 Cases</th>\n      <th>Recovered / 100 Cases</th>\n      <th>Deaths / 100 Recovered</th>\n      <th>Confirmed last week</th>\n      <th>1 week change</th>\n      <th>1 week % increase</th>\n      <th>WHO Region</th>\n    </tr>\n  </thead>\n  <tbody>\n    <tr>\n      <th>184</th>\n      <td>Yemen</td>\n      <td>1691</td>\n      <td>483</td>\n      <td>833</td>\n      <td>375</td>\n      <td>10</td>\n      <td>4</td>\n      <td>36</td>\n      <td>28.56</td>\n      <td>49.26</td>\n      <td>57.98</td>\n      <td>1619</td>\n      <td>72</td>\n      <td>4.45</td>\n      <td>Eastern Mediterranean</td>\n    </tr>\n    <tr>\n      <th>177</th>\n      <td>United Kingdom</td>\n      <td>301708</td>\n      <td>45844</td>\n      <td>1437</td>\n      <td>254427</td>\n      <td>688</td>\n      <td>7</td>\n      <td>3</td>\n      <td>15.19</td>\n      <td>0.48</td>\n      <td>3190.26</td>\n      <td>296944</td>\n      <td>4764</td>\n      <td>1.60</td>\n      <td>Europe</td>\n    </tr>\n    <tr>\n      <th>16</th>\n      <td>Belgium</td>\n      <td>66428</td>\n      <td>9822</td>\n      <td>17452</td>\n      <td>39154</td>\n      <td>402</td>\n      <td>1</td>\n      <td>14</td>\n      <td>14.79</td>\n      <td>26.27</td>\n      <td>56.28</td>\n      <td>64094</td>\n      <td>2334</td>\n      <td>3.64</td>\n      <td>Europe</td>\n    </tr>\n  </tbody>\n</table>\n</div>"
     },
     "metadata": {}
    },
    {
     "output_type": "display_data",
     "data": {
      "text/plain": "Country/Region                            Yemen\nConfirmed                                  1691\nDeaths                                      483\nRecovered                                   833\nActive                                      375\nNew cases                                    10\nNew deaths                                    4\nNew recovered                                36\nDeaths / 100 Cases                        28.56\nRecovered / 100 Cases                     49.26\nDeaths / 100 Recovered                    57.98\nConfirmed last week                        1619\n1 week change                                72\n1 week % increase                          4.45\nWHO Region                Eastern Mediterranean\nName: 184, dtype: object"
     },
     "metadata": {}
    }
   ],
   "source": [
    "import pandas as pd\n",
    "import os\n",
    "df = pd.read_csv(\"country_wise_latest.csv\")\n",
    "display(df.sort_values(['Deaths / 100 Cases'],ascending=False).head(3))\n",
    "display(df.sort_values(['Deaths / 100 Cases'],ascending=False).iloc[0,:])\n"
   ]
  },
  {
   "cell_type": "markdown",
   "metadata": {},
   "source": [
    "### 2. covid 데이터에서 신규 확진자가 없는 나라 중 WHO Region이 'Europe'를 모두 출력하면?  \n",
    "Hint : 한 줄에 동시에 두가지 조건을 Apply하는 경우 Warning이 발생할 수 있습니다."
   ]
  },
  {
   "cell_type": "code",
   "execution_count": 21,
   "metadata": {},
   "outputs": [
    {
     "output_type": "execute_result",
     "data": {
      "text/plain": [
       "    Country/Region  Confirmed  Deaths  Recovered  Active  New cases  \\\n",
       "56         Estonia       2034      69       1923      42          0   \n",
       "75        Holy See         12       0         12       0          0   \n",
       "95          Latvia       1219      31       1045     143          0   \n",
       "100  Liechtenstein         86       1         81       4          0   \n",
       "113         Monaco        116       4        104       8          0   \n",
       "143     San Marino        699      42        657       0          0   \n",
       "157          Spain     272421   28432     150376   93613          0   \n",
       "\n",
       "     New deaths  New recovered  Deaths / 100 Cases  Recovered / 100 Cases  \\\n",
       "56            0              1                3.39                  94.54   \n",
       "75            0              0                0.00                 100.00   \n",
       "95            0              0                2.54                  85.73   \n",
       "100           0              0                1.16                  94.19   \n",
       "113           0              0                3.45                  89.66   \n",
       "143           0              0                6.01                  93.99   \n",
       "157           0              0               10.44                  55.20   \n",
       "\n",
       "     Deaths / 100 Recovered  Confirmed last week  1 week change  \\\n",
       "56                     3.59                 2021             13   \n",
       "75                     0.00                   12              0   \n",
       "95                     2.97                 1192             27   \n",
       "100                    1.23                   86              0   \n",
       "113                    3.85                  109              7   \n",
       "143                    6.39                  699              0   \n",
       "157                   18.91               264836           7585   \n",
       "\n",
       "     1 week % increase WHO Region  \n",
       "56                0.64     Europe  \n",
       "75                0.00     Europe  \n",
       "95                2.27     Europe  \n",
       "100               0.00     Europe  \n",
       "113               6.42     Europe  \n",
       "143               0.00     Europe  \n",
       "157               2.86     Europe  "
      ],
      "text/html": "<div>\n<style scoped>\n    .dataframe tbody tr th:only-of-type {\n        vertical-align: middle;\n    }\n\n    .dataframe tbody tr th {\n        vertical-align: top;\n    }\n\n    .dataframe thead th {\n        text-align: right;\n    }\n</style>\n<table border=\"1\" class=\"dataframe\">\n  <thead>\n    <tr style=\"text-align: right;\">\n      <th></th>\n      <th>Country/Region</th>\n      <th>Confirmed</th>\n      <th>Deaths</th>\n      <th>Recovered</th>\n      <th>Active</th>\n      <th>New cases</th>\n      <th>New deaths</th>\n      <th>New recovered</th>\n      <th>Deaths / 100 Cases</th>\n      <th>Recovered / 100 Cases</th>\n      <th>Deaths / 100 Recovered</th>\n      <th>Confirmed last week</th>\n      <th>1 week change</th>\n      <th>1 week % increase</th>\n      <th>WHO Region</th>\n    </tr>\n  </thead>\n  <tbody>\n    <tr>\n      <th>56</th>\n      <td>Estonia</td>\n      <td>2034</td>\n      <td>69</td>\n      <td>1923</td>\n      <td>42</td>\n      <td>0</td>\n      <td>0</td>\n      <td>1</td>\n      <td>3.39</td>\n      <td>94.54</td>\n      <td>3.59</td>\n      <td>2021</td>\n      <td>13</td>\n      <td>0.64</td>\n      <td>Europe</td>\n    </tr>\n    <tr>\n      <th>75</th>\n      <td>Holy See</td>\n      <td>12</td>\n      <td>0</td>\n      <td>12</td>\n      <td>0</td>\n      <td>0</td>\n      <td>0</td>\n      <td>0</td>\n      <td>0.00</td>\n      <td>100.00</td>\n      <td>0.00</td>\n      <td>12</td>\n      <td>0</td>\n      <td>0.00</td>\n      <td>Europe</td>\n    </tr>\n    <tr>\n      <th>95</th>\n      <td>Latvia</td>\n      <td>1219</td>\n      <td>31</td>\n      <td>1045</td>\n      <td>143</td>\n      <td>0</td>\n      <td>0</td>\n      <td>0</td>\n      <td>2.54</td>\n      <td>85.73</td>\n      <td>2.97</td>\n      <td>1192</td>\n      <td>27</td>\n      <td>2.27</td>\n      <td>Europe</td>\n    </tr>\n    <tr>\n      <th>100</th>\n      <td>Liechtenstein</td>\n      <td>86</td>\n      <td>1</td>\n      <td>81</td>\n      <td>4</td>\n      <td>0</td>\n      <td>0</td>\n      <td>0</td>\n      <td>1.16</td>\n      <td>94.19</td>\n      <td>1.23</td>\n      <td>86</td>\n      <td>0</td>\n      <td>0.00</td>\n      <td>Europe</td>\n    </tr>\n    <tr>\n      <th>113</th>\n      <td>Monaco</td>\n      <td>116</td>\n      <td>4</td>\n      <td>104</td>\n      <td>8</td>\n      <td>0</td>\n      <td>0</td>\n      <td>0</td>\n      <td>3.45</td>\n      <td>89.66</td>\n      <td>3.85</td>\n      <td>109</td>\n      <td>7</td>\n      <td>6.42</td>\n      <td>Europe</td>\n    </tr>\n    <tr>\n      <th>143</th>\n      <td>San Marino</td>\n      <td>699</td>\n      <td>42</td>\n      <td>657</td>\n      <td>0</td>\n      <td>0</td>\n      <td>0</td>\n      <td>0</td>\n      <td>6.01</td>\n      <td>93.99</td>\n      <td>6.39</td>\n      <td>699</td>\n      <td>0</td>\n      <td>0.00</td>\n      <td>Europe</td>\n    </tr>\n    <tr>\n      <th>157</th>\n      <td>Spain</td>\n      <td>272421</td>\n      <td>28432</td>\n      <td>150376</td>\n      <td>93613</td>\n      <td>0</td>\n      <td>0</td>\n      <td>0</td>\n      <td>10.44</td>\n      <td>55.20</td>\n      <td>18.91</td>\n      <td>264836</td>\n      <td>7585</td>\n      <td>2.86</td>\n      <td>Europe</td>\n    </tr>\n  </tbody>\n</table>\n</div>"
     },
     "metadata": {},
     "execution_count": 21
    }
   ],
   "source": [
    "df[(df['New cases']==0) & (df['WHO Region']==\"Europe\")]"
   ]
  },
  {
   "cell_type": "markdown",
   "metadata": {},
   "source": [
    "### 3. 다음 [데이터](https://www.kaggle.com/neuromusic/avocado-prices)를 이용해 각 Region별로 아보카도가 가장 비싼 평균가격(AveragePrice)을 출력하면?"
   ]
  },
  {
   "cell_type": "code",
   "execution_count": 22,
   "metadata": {},
   "outputs": [
    {
     "output_type": "execute_result",
     "data": {
      "text/plain": [
       "   Unnamed: 0        Date  AveragePrice  Total Volume     4046       4225  \\\n",
       "0           0  2015-12-27          1.33      64236.62  1036.74   54454.85   \n",
       "1           1  2015-12-20          1.35      54876.98   674.28   44638.81   \n",
       "2           2  2015-12-13          0.93     118220.22   794.70  109149.67   \n",
       "3           3  2015-12-06          1.08      78992.15  1132.00   71976.41   \n",
       "4           4  2015-11-29          1.28      51039.60   941.48   43838.39   \n",
       "\n",
       "     4770  Total Bags  Small Bags  Large Bags  XLarge Bags          type  \\\n",
       "0   48.16     8696.87     8603.62       93.25          0.0  conventional   \n",
       "1   58.33     9505.56     9408.07       97.49          0.0  conventional   \n",
       "2  130.50     8145.35     8042.21      103.14          0.0  conventional   \n",
       "3   72.58     5811.16     5677.40      133.76          0.0  conventional   \n",
       "4   75.78     6183.95     5986.26      197.69          0.0  conventional   \n",
       "\n",
       "   year  region  \n",
       "0  2015  Albany  \n",
       "1  2015  Albany  \n",
       "2  2015  Albany  \n",
       "3  2015  Albany  \n",
       "4  2015  Albany  "
      ],
      "text/html": "<div>\n<style scoped>\n    .dataframe tbody tr th:only-of-type {\n        vertical-align: middle;\n    }\n\n    .dataframe tbody tr th {\n        vertical-align: top;\n    }\n\n    .dataframe thead th {\n        text-align: right;\n    }\n</style>\n<table border=\"1\" class=\"dataframe\">\n  <thead>\n    <tr style=\"text-align: right;\">\n      <th></th>\n      <th>Unnamed: 0</th>\n      <th>Date</th>\n      <th>AveragePrice</th>\n      <th>Total Volume</th>\n      <th>4046</th>\n      <th>4225</th>\n      <th>4770</th>\n      <th>Total Bags</th>\n      <th>Small Bags</th>\n      <th>Large Bags</th>\n      <th>XLarge Bags</th>\n      <th>type</th>\n      <th>year</th>\n      <th>region</th>\n    </tr>\n  </thead>\n  <tbody>\n    <tr>\n      <th>0</th>\n      <td>0</td>\n      <td>2015-12-27</td>\n      <td>1.33</td>\n      <td>64236.62</td>\n      <td>1036.74</td>\n      <td>54454.85</td>\n      <td>48.16</td>\n      <td>8696.87</td>\n      <td>8603.62</td>\n      <td>93.25</td>\n      <td>0.0</td>\n      <td>conventional</td>\n      <td>2015</td>\n      <td>Albany</td>\n    </tr>\n    <tr>\n      <th>1</th>\n      <td>1</td>\n      <td>2015-12-20</td>\n      <td>1.35</td>\n      <td>54876.98</td>\n      <td>674.28</td>\n      <td>44638.81</td>\n      <td>58.33</td>\n      <td>9505.56</td>\n      <td>9408.07</td>\n      <td>97.49</td>\n      <td>0.0</td>\n      <td>conventional</td>\n      <td>2015</td>\n      <td>Albany</td>\n    </tr>\n    <tr>\n      <th>2</th>\n      <td>2</td>\n      <td>2015-12-13</td>\n      <td>0.93</td>\n      <td>118220.22</td>\n      <td>794.70</td>\n      <td>109149.67</td>\n      <td>130.50</td>\n      <td>8145.35</td>\n      <td>8042.21</td>\n      <td>103.14</td>\n      <td>0.0</td>\n      <td>conventional</td>\n      <td>2015</td>\n      <td>Albany</td>\n    </tr>\n    <tr>\n      <th>3</th>\n      <td>3</td>\n      <td>2015-12-06</td>\n      <td>1.08</td>\n      <td>78992.15</td>\n      <td>1132.00</td>\n      <td>71976.41</td>\n      <td>72.58</td>\n      <td>5811.16</td>\n      <td>5677.40</td>\n      <td>133.76</td>\n      <td>0.0</td>\n      <td>conventional</td>\n      <td>2015</td>\n      <td>Albany</td>\n    </tr>\n    <tr>\n      <th>4</th>\n      <td>4</td>\n      <td>2015-11-29</td>\n      <td>1.28</td>\n      <td>51039.60</td>\n      <td>941.48</td>\n      <td>43838.39</td>\n      <td>75.78</td>\n      <td>6183.95</td>\n      <td>5986.26</td>\n      <td>197.69</td>\n      <td>0.0</td>\n      <td>conventional</td>\n      <td>2015</td>\n      <td>Albany</td>\n    </tr>\n  </tbody>\n</table>\n</div>"
     },
     "metadata": {},
     "execution_count": 22
    }
   ],
   "source": [
    "df = pd.read_csv(\"avocado.csv\")\n",
    "df.head()"
   ]
  },
  {
   "cell_type": "code",
   "execution_count": 25,
   "metadata": {},
   "outputs": [
    {
     "output_type": "execute_result",
     "data": {
      "text/plain": [
       "region\n",
       "HartfordSpringfield    1.818639\n",
       "SanFrancisco           1.804201\n",
       "NewYork                1.727574\n",
       "Philadelphia           1.632130\n",
       "Sacramento             1.621568\n",
       "Charlotte              1.606036\n",
       "Northeast              1.601923\n",
       "Albany                 1.561036\n",
       "Chicago                1.556775\n",
       "RaleighGreensboro      1.555118\n",
       "BaltimoreWashington    1.534231\n",
       "Boston                 1.530888\n",
       "Syracuse               1.520325\n",
       "BuffaloRochester       1.516834\n",
       "HarrisburgScranton     1.513284\n",
       "Jacksonville           1.510947\n",
       "Orlando                1.506213\n",
       "GrandRapids            1.505000\n",
       "NorthernNewEngland     1.477396\n",
       "Spokane                1.445592\n",
       "Seattle                1.442574\n",
       "Plains                 1.436509\n",
       "StLouis                1.430621\n",
       "MiamiFtLauderdale      1.428491\n",
       "Tampa                  1.408846\n",
       "Midsouth               1.404763\n",
       "SouthCarolina          1.403284\n",
       "SanDiego               1.398166\n",
       "Southeast              1.398018\n",
       "California             1.395325\n",
       "LasVegas               1.380917\n",
       "Pittsburgh             1.364320\n",
       "Boise                  1.348136\n",
       "GreatLakes             1.338550\n",
       "Atlanta                1.337959\n",
       "TotalUS                1.319024\n",
       "Portland               1.317722\n",
       "Indianapolis           1.313994\n",
       "NewOrleansMobile       1.304793\n",
       "RichmondNorfolk        1.291331\n",
       "Louisville             1.286686\n",
       "Detroit                1.276095\n",
       "West                   1.272219\n",
       "WestTexNewMexico       1.261701\n",
       "Columbus               1.252781\n",
       "Roanoke                1.247929\n",
       "PhoenixTucson          1.224438\n",
       "Denver                 1.218580\n",
       "LosAngeles             1.216006\n",
       "Nashville              1.212101\n",
       "CincinnatiDayton       1.209201\n",
       "SouthCentral           1.101243\n",
       "DallasFtWorth          1.085592\n",
       "Houston                1.047929\n",
       "Name: AveragePrice, dtype: float64"
      ]
     },
     "metadata": {},
     "execution_count": 25
    }
   ],
   "source": [
    "df.groupby(['region'])['AveragePrice'].mean().sort_values(ascending=False)"
   ]
  }
 ],
 "metadata": {
  "kernelspec": {
   "name": "python3710jvsc74a57bd0307d7f8109962fbb6ae9ef2afcf5250f9d09a57e53b206f40d9da7217baa96e7",
   "display_name": "Python 3.7.10 64-bit ('pytorch': conda)"
  },
  "language_info": {
   "codemirror_mode": {
    "name": "ipython",
    "version": 3
   },
   "file_extension": ".py",
   "mimetype": "text/x-python",
   "name": "python",
   "nbconvert_exporter": "python",
   "pygments_lexer": "ipython3",
   "version": "3.7.10"
  }
 },
 "nbformat": 4,
 "nbformat_minor": 4
}