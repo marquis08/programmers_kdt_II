{
 "cells": [
  {
   "cell_type": "markdown",
   "id": "portable-proposition",
   "metadata": {},
   "source": [
    "<img src=\"image/netflix-logo.png\" width=\"30%\" height=\"30%\" align=\"center\">  \n",
    "\n",
    "# **Mission 1. Netfilx and Code**\n",
    "\n",
    "## **Mandatory Part**\n",
    "\n",
    "### Q: How many *Korean* contents are listed in Netflix? (country column, exclusively in South Korea)\n",
    "#### A: *183*"
   ]
  },
  {
   "cell_type": "code",
   "execution_count": 49,
   "id": "prospective-binding",
   "metadata": {},
   "outputs": [
    {
     "data": {
      "text/html": [
       "<div>\n",
       "<style scoped>\n",
       "    .dataframe tbody tr th:only-of-type {\n",
       "        vertical-align: middle;\n",
       "    }\n",
       "\n",
       "    .dataframe tbody tr th {\n",
       "        vertical-align: top;\n",
       "    }\n",
       "\n",
       "    .dataframe thead th {\n",
       "        text-align: right;\n",
       "    }\n",
       "</style>\n",
       "<table border=\"1\" class=\"dataframe\">\n",
       "  <thead>\n",
       "    <tr style=\"text-align: right;\">\n",
       "      <th></th>\n",
       "      <th>show_id</th>\n",
       "      <th>type</th>\n",
       "      <th>title</th>\n",
       "      <th>director</th>\n",
       "      <th>cast</th>\n",
       "      <th>country</th>\n",
       "      <th>date_added</th>\n",
       "      <th>release_year</th>\n",
       "      <th>rating</th>\n",
       "      <th>duration</th>\n",
       "      <th>listed_in</th>\n",
       "      <th>description</th>\n",
       "    </tr>\n",
       "  </thead>\n",
       "  <tbody>\n",
       "    <tr>\n",
       "      <th>0</th>\n",
       "      <td>s1</td>\n",
       "      <td>TV Show</td>\n",
       "      <td>3%</td>\n",
       "      <td>NaN</td>\n",
       "      <td>João Miguel, Bianca Comparato, Michel Gomes, R...</td>\n",
       "      <td>Brazil</td>\n",
       "      <td>August 14, 2020</td>\n",
       "      <td>2020</td>\n",
       "      <td>TV-MA</td>\n",
       "      <td>4 Seasons</td>\n",
       "      <td>International TV Shows, TV Dramas, TV Sci-Fi &amp;...</td>\n",
       "      <td>In a future where the elite inhabit an island ...</td>\n",
       "    </tr>\n",
       "    <tr>\n",
       "      <th>1</th>\n",
       "      <td>s2</td>\n",
       "      <td>Movie</td>\n",
       "      <td>7:19</td>\n",
       "      <td>Jorge Michel Grau</td>\n",
       "      <td>Demián Bichir, Héctor Bonilla, Oscar Serrano, ...</td>\n",
       "      <td>Mexico</td>\n",
       "      <td>December 23, 2016</td>\n",
       "      <td>2016</td>\n",
       "      <td>TV-MA</td>\n",
       "      <td>93 min</td>\n",
       "      <td>Dramas, International Movies</td>\n",
       "      <td>After a devastating earthquake hits Mexico Cit...</td>\n",
       "    </tr>\n",
       "  </tbody>\n",
       "</table>\n",
       "</div>"
      ],
      "text/plain": [
       "  show_id     type title           director  \\\n",
       "0      s1  TV Show    3%                NaN   \n",
       "1      s2    Movie  7:19  Jorge Michel Grau   \n",
       "\n",
       "                                                cast country  \\\n",
       "0  João Miguel, Bianca Comparato, Michel Gomes, R...  Brazil   \n",
       "1  Demián Bichir, Héctor Bonilla, Oscar Serrano, ...  Mexico   \n",
       "\n",
       "          date_added  release_year rating   duration  \\\n",
       "0    August 14, 2020          2020  TV-MA  4 Seasons   \n",
       "1  December 23, 2016          2016  TV-MA     93 min   \n",
       "\n",
       "                                           listed_in  \\\n",
       "0  International TV Shows, TV Dramas, TV Sci-Fi &...   \n",
       "1                       Dramas, International Movies   \n",
       "\n",
       "                                         description  \n",
       "0  In a future where the elite inhabit an island ...  \n",
       "1  After a devastating earthquake hits Mexico Cit...  "
      ]
     },
     "execution_count": 49,
     "metadata": {},
     "output_type": "execute_result"
    }
   ],
   "source": [
    "import pandas as pd\n",
    "df = pd.read_csv(\"data/netflix_titles.csv\")\n",
    "df.head(2)"
   ]
  },
  {
   "cell_type": "code",
   "execution_count": 2,
   "id": "magnetic-oakland",
   "metadata": {},
   "outputs": [
    {
     "data": {
      "text/plain": [
       "0                                                  Brazil\n",
       "1                                                  Mexico\n",
       "2                                               Singapore\n",
       "3                                           United States\n",
       "4                                           United States\n",
       "                              ...                        \n",
       "7782    Sweden, Czech Republic, United Kingdom, Denmar...\n",
       "7783                                                India\n",
       "7784                                                  NaN\n",
       "7785                                            Australia\n",
       "7786                United Kingdom, Canada, United States\n",
       "Name: country, Length: 7787, dtype: object"
      ]
     },
     "execution_count": 2,
     "metadata": {},
     "output_type": "execute_result"
    }
   ],
   "source": [
    "df.country"
   ]
  },
  {
   "cell_type": "code",
   "execution_count": 3,
   "id": "conditional-mentor",
   "metadata": {},
   "outputs": [
    {
     "name": "stdout",
     "output_type": "stream",
     "text": [
      "South Korean Contents in Netflix:\n",
      "\n",
      "United States     2555\n",
      "India              923\n",
      "United Kingdom     397\n",
      "Japan              226\n",
      "South Korea        183\n",
      "Name: country, dtype: int64 \n",
      "\n",
      "South Korea\n",
      "183\n"
     ]
    }
   ],
   "source": [
    "# Using value_counts()\n",
    "print(\"South Korean Contents in Netflix:\\n\")\n",
    "print(df['country'].value_counts().head(),\"\\n\")\n",
    "print(df['country'].value_counts().index[:5][-1])\n",
    "print(df['country'].value_counts().values[:5][-1])"
   ]
  },
  {
   "cell_type": "markdown",
   "id": "regulated-sudan",
   "metadata": {},
   "source": [
    "## **Bonus Part**\n",
    "\n",
    "### Q: **Which country** has the **largest** contents in Netflix and **how many** of its contents?\n",
    "#### A: *United States*"
   ]
  },
  {
   "cell_type": "code",
   "execution_count": 4,
   "id": "remarkable-majority",
   "metadata": {},
   "outputs": [
    {
     "data": {
      "text/plain": [
       "dtype('O')"
      ]
     },
     "execution_count": 4,
     "metadata": {},
     "output_type": "execute_result"
    }
   ],
   "source": [
    "df['country'].dtype"
   ]
  },
  {
   "cell_type": "code",
   "execution_count": 5,
   "id": "complex-climate",
   "metadata": {},
   "outputs": [
    {
     "data": {
      "text/plain": [
       "United States                                                     2555\n",
       "India                                                              923\n",
       "NaN                                                                507\n",
       "United Kingdom                                                     397\n",
       "Japan                                                              226\n",
       "                                                                  ... \n",
       "Senegal                                                              1\n",
       "United States, Spain, Italy                                          1\n",
       "Norway, Denmark, Sweden                                              1\n",
       "United Kingdom, Namibia, South Africa, Zimbabwe, United States       1\n",
       "Singapore, Malaysia                                                  1\n",
       "Name: country, Length: 682, dtype: int64"
      ]
     },
     "execution_count": 5,
     "metadata": {},
     "output_type": "execute_result"
    }
   ],
   "source": [
    "df['country'].value_counts(dropna=False)"
   ]
  },
  {
   "cell_type": "markdown",
   "id": "ideal-thickness",
   "metadata": {},
   "source": [
    "value_counts() 메서드로 그냥 바로 나오긴 한다.  \n",
    "NaN 값 전체를 인도에 포함시켜도 미국을 넘을 순 없다. "
   ]
  },
  {
   "cell_type": "markdown",
   "id": "fresh-junior",
   "metadata": {},
   "source": [
    "---\n",
    "# **Spin Off**\n",
    "## split 메서드를 사용해서 single country를 분류해보자"
   ]
  },
  {
   "cell_type": "markdown",
   "id": "endangered-drove",
   "metadata": {},
   "source": [
    "NaN이 존재하기 때문에 split에서 에러가 났다.  \n",
    "Missing value를 체크해보자.  \n",
    "pandas 에서는 isna() 메서드로 체크가 가능하다.  \n",
    "또한 예전에 캐글에서 봐둔 missing value table 만드는 함수도 다시 사용해보자.  "
   ]
  },
  {
   "cell_type": "markdown",
   "id": "fixed-reducing",
   "metadata": {},
   "source": [
    "### Missing values table"
   ]
  },
  {
   "cell_type": "code",
   "execution_count": 6,
   "id": "forced-polymer",
   "metadata": {},
   "outputs": [],
   "source": [
    "def missing_values_table(df):# Function to calculate missing values by column# Funct \n",
    "    mis_val = df.isnull().sum() # Total missing values\n",
    "    mis_val_pct = 100 * df.isnull().sum() / len(df)# Percentage of missing values\n",
    "    mis_val_df = pd.concat([mis_val, mis_val_pct], axis=1)# Make a table with the results\n",
    "    mis_val_df_cols = mis_val_df.rename(columns = {0 : 'Missing Values', 1 : '% of Total Values'})# Rename the columns\n",
    "    mis_val_df_cols = mis_val_df_cols[mis_val_df_cols.iloc[:,1] != 0].sort_values('% of Total Values', ascending=False).round(1)# Sort the table by percentage of missing descending\n",
    "    print (\"Dataframe has \" + str(df.shape[1]) + \" columns.\\n\" \n",
    "           \"There are \" + str(mis_val_df_cols.shape[0]) + \" cols having missing values.\")# Print some summary information\n",
    "    return mis_val_df_cols # Return the dataframe with missing information"
   ]
  },
  {
   "cell_type": "code",
   "execution_count": 7,
   "id": "exposed-active",
   "metadata": {},
   "outputs": [
    {
     "name": "stdout",
     "output_type": "stream",
     "text": [
      "Dataframe has 12 columns.\n",
      "There are 5 cols having missing values.\n"
     ]
    },
    {
     "data": {
      "text/html": [
       "<div>\n",
       "<style scoped>\n",
       "    .dataframe tbody tr th:only-of-type {\n",
       "        vertical-align: middle;\n",
       "    }\n",
       "\n",
       "    .dataframe tbody tr th {\n",
       "        vertical-align: top;\n",
       "    }\n",
       "\n",
       "    .dataframe thead th {\n",
       "        text-align: right;\n",
       "    }\n",
       "</style>\n",
       "<table border=\"1\" class=\"dataframe\">\n",
       "  <thead>\n",
       "    <tr style=\"text-align: right;\">\n",
       "      <th></th>\n",
       "      <th>Missing Values</th>\n",
       "      <th>% of Total Values</th>\n",
       "    </tr>\n",
       "  </thead>\n",
       "  <tbody>\n",
       "    <tr>\n",
       "      <th>director</th>\n",
       "      <td>2389</td>\n",
       "      <td>30.7</td>\n",
       "    </tr>\n",
       "    <tr>\n",
       "      <th>cast</th>\n",
       "      <td>718</td>\n",
       "      <td>9.2</td>\n",
       "    </tr>\n",
       "    <tr>\n",
       "      <th>country</th>\n",
       "      <td>507</td>\n",
       "      <td>6.5</td>\n",
       "    </tr>\n",
       "    <tr>\n",
       "      <th>date_added</th>\n",
       "      <td>10</td>\n",
       "      <td>0.1</td>\n",
       "    </tr>\n",
       "    <tr>\n",
       "      <th>rating</th>\n",
       "      <td>7</td>\n",
       "      <td>0.1</td>\n",
       "    </tr>\n",
       "  </tbody>\n",
       "</table>\n",
       "</div>"
      ],
      "text/plain": [
       "            Missing Values  % of Total Values\n",
       "director              2389               30.7\n",
       "cast                   718                9.2\n",
       "country                507                6.5\n",
       "date_added              10                0.1\n",
       "rating                   7                0.1"
      ]
     },
     "execution_count": 7,
     "metadata": {},
     "output_type": "execute_result"
    }
   ],
   "source": [
    "missing_values_table(df)"
   ]
  },
  {
   "cell_type": "markdown",
   "id": "brief-crash",
   "metadata": {},
   "source": [
    "director, cast, country, date_added, rating 5개의 columns들에서 missing value들이 존재하고  \n",
    "director는 30%나 있다.  \n",
    "director가 NaN이 30%는 좀 이상한데 "
   ]
  },
  {
   "cell_type": "markdown",
   "id": "expired-brisbane",
   "metadata": {},
   "source": [
    "### isna()"
   ]
  },
  {
   "cell_type": "code",
   "execution_count": 8,
   "id": "bigger-winner",
   "metadata": {},
   "outputs": [
    {
     "data": {
      "text/html": [
       "<div>\n",
       "<style scoped>\n",
       "    .dataframe tbody tr th:only-of-type {\n",
       "        vertical-align: middle;\n",
       "    }\n",
       "\n",
       "    .dataframe tbody tr th {\n",
       "        vertical-align: top;\n",
       "    }\n",
       "\n",
       "    .dataframe thead th {\n",
       "        text-align: right;\n",
       "    }\n",
       "</style>\n",
       "<table border=\"1\" class=\"dataframe\">\n",
       "  <thead>\n",
       "    <tr style=\"text-align: right;\">\n",
       "      <th></th>\n",
       "      <th>show_id</th>\n",
       "      <th>type</th>\n",
       "      <th>title</th>\n",
       "      <th>director</th>\n",
       "      <th>cast</th>\n",
       "      <th>country</th>\n",
       "      <th>date_added</th>\n",
       "      <th>release_year</th>\n",
       "      <th>rating</th>\n",
       "      <th>duration</th>\n",
       "      <th>listed_in</th>\n",
       "      <th>description</th>\n",
       "    </tr>\n",
       "  </thead>\n",
       "  <tbody>\n",
       "    <tr>\n",
       "      <th>16</th>\n",
       "      <td>s17</td>\n",
       "      <td>TV Show</td>\n",
       "      <td>Feb-09</td>\n",
       "      <td>NaN</td>\n",
       "      <td>Shahd El Yaseen, Shaila Sabt, Hala, Hanadi Al-...</td>\n",
       "      <td>NaN</td>\n",
       "      <td>March 20, 2019</td>\n",
       "      <td>2018</td>\n",
       "      <td>TV-14</td>\n",
       "      <td>1 Season</td>\n",
       "      <td>International TV Shows, TV Dramas</td>\n",
       "      <td>As a psychology professor faces Alzheimer's, h...</td>\n",
       "    </tr>\n",
       "    <tr>\n",
       "      <th>38</th>\n",
       "      <td>s39</td>\n",
       "      <td>TV Show</td>\n",
       "      <td>แผนร้ายนายเจ้าเล่ห์</td>\n",
       "      <td>NaN</td>\n",
       "      <td>Chutavuth Pattarakampol, Sheranut Yusananda, N...</td>\n",
       "      <td>NaN</td>\n",
       "      <td>March 30, 2019</td>\n",
       "      <td>2016</td>\n",
       "      <td>TV-14</td>\n",
       "      <td>1 Season</td>\n",
       "      <td>International TV Shows, Romantic TV Shows, TV ...</td>\n",
       "      <td>When two brothers fall for two sisters, they q...</td>\n",
       "    </tr>\n",
       "  </tbody>\n",
       "</table>\n",
       "</div>"
      ],
      "text/plain": [
       "   show_id     type                title director  \\\n",
       "16     s17  TV Show               Feb-09      NaN   \n",
       "38     s39  TV Show  แผนร้ายนายเจ้าเล่ห์      NaN   \n",
       "\n",
       "                                                 cast country      date_added  \\\n",
       "16  Shahd El Yaseen, Shaila Sabt, Hala, Hanadi Al-...     NaN  March 20, 2019   \n",
       "38  Chutavuth Pattarakampol, Sheranut Yusananda, N...     NaN  March 30, 2019   \n",
       "\n",
       "    release_year rating  duration  \\\n",
       "16          2018  TV-14  1 Season   \n",
       "38          2016  TV-14  1 Season   \n",
       "\n",
       "                                            listed_in  \\\n",
       "16                  International TV Shows, TV Dramas   \n",
       "38  International TV Shows, Romantic TV Shows, TV ...   \n",
       "\n",
       "                                          description  \n",
       "16  As a psychology professor faces Alzheimer's, h...  \n",
       "38  When two brothers fall for two sisters, they q...  "
      ]
     },
     "execution_count": 8,
     "metadata": {},
     "output_type": "execute_result"
    }
   ],
   "source": [
    "df[df['country'].isna()].head(2)"
   ]
  },
  {
   "cell_type": "code",
   "execution_count": 9,
   "id": "stupid-induction",
   "metadata": {},
   "outputs": [
    {
     "data": {
      "text/plain": [
       "(507, 12)"
      ]
     },
     "execution_count": 9,
     "metadata": {},
     "output_type": "execute_result"
    }
   ],
   "source": [
    "df[df['country'].isna()].shape"
   ]
  },
  {
   "cell_type": "markdown",
   "id": "brown-worcester",
   "metadata": {},
   "source": [
    "507 rows 만큼의 NaN 값이 존재하는 거 확인.  \n",
    "NaN을 다른 string으로 대체  "
   ]
  },
  {
   "cell_type": "code",
   "execution_count": 10,
   "id": "pleased-democrat",
   "metadata": {},
   "outputs": [
    {
     "name": "stdout",
     "output_type": "stream",
     "text": [
      "(0, 12)\n"
     ]
    }
   ],
   "source": [
    "df[df['country'].isna()] = \"Not Assigned\"\n",
    "print(df[df['country'].isna()].shape)"
   ]
  },
  {
   "cell_type": "markdown",
   "id": "basic-offering",
   "metadata": {},
   "source": [
    "없어진 것 확인  \n",
    "\"Not Assigned\"가 제대로 적용되었는지 확인  "
   ]
  },
  {
   "cell_type": "code",
   "execution_count": 11,
   "id": "subjective-generator",
   "metadata": {},
   "outputs": [
    {
     "data": {
      "text/plain": [
       "(507, 12)"
      ]
     },
     "execution_count": 11,
     "metadata": {},
     "output_type": "execute_result"
    }
   ],
   "source": [
    "df[df['country'] == \"Not Assigned\"].shape"
   ]
  },
  {
   "cell_type": "markdown",
   "id": "unexpected-symbol",
   "metadata": {},
   "source": [
    "Done"
   ]
  },
  {
   "cell_type": "code",
   "execution_count": 12,
   "id": "tender-polish",
   "metadata": {},
   "outputs": [],
   "source": [
    "df['cnt_country'] = df['country'].apply(lambda x: x.split(\",\"))"
   ]
  },
  {
   "cell_type": "code",
   "execution_count": 13,
   "id": "involved-shoot",
   "metadata": {},
   "outputs": [
    {
     "data": {
      "text/html": [
       "<div>\n",
       "<style scoped>\n",
       "    .dataframe tbody tr th:only-of-type {\n",
       "        vertical-align: middle;\n",
       "    }\n",
       "\n",
       "    .dataframe tbody tr th {\n",
       "        vertical-align: top;\n",
       "    }\n",
       "\n",
       "    .dataframe thead th {\n",
       "        text-align: right;\n",
       "    }\n",
       "</style>\n",
       "<table border=\"1\" class=\"dataframe\">\n",
       "  <thead>\n",
       "    <tr style=\"text-align: right;\">\n",
       "      <th></th>\n",
       "      <th>show_id</th>\n",
       "      <th>type</th>\n",
       "      <th>title</th>\n",
       "      <th>director</th>\n",
       "      <th>cast</th>\n",
       "      <th>country</th>\n",
       "      <th>date_added</th>\n",
       "      <th>release_year</th>\n",
       "      <th>rating</th>\n",
       "      <th>duration</th>\n",
       "      <th>listed_in</th>\n",
       "      <th>description</th>\n",
       "      <th>cnt_country</th>\n",
       "    </tr>\n",
       "  </thead>\n",
       "  <tbody>\n",
       "    <tr>\n",
       "      <th>0</th>\n",
       "      <td>s1</td>\n",
       "      <td>TV Show</td>\n",
       "      <td>3%</td>\n",
       "      <td>NaN</td>\n",
       "      <td>João Miguel, Bianca Comparato, Michel Gomes, R...</td>\n",
       "      <td>Brazil</td>\n",
       "      <td>August 14, 2020</td>\n",
       "      <td>2020</td>\n",
       "      <td>TV-MA</td>\n",
       "      <td>4 Seasons</td>\n",
       "      <td>International TV Shows, TV Dramas, TV Sci-Fi &amp;...</td>\n",
       "      <td>In a future where the elite inhabit an island ...</td>\n",
       "      <td>[Brazil]</td>\n",
       "    </tr>\n",
       "    <tr>\n",
       "      <th>1</th>\n",
       "      <td>s2</td>\n",
       "      <td>Movie</td>\n",
       "      <td>7:19</td>\n",
       "      <td>Jorge Michel Grau</td>\n",
       "      <td>Demián Bichir, Héctor Bonilla, Oscar Serrano, ...</td>\n",
       "      <td>Mexico</td>\n",
       "      <td>December 23, 2016</td>\n",
       "      <td>2016</td>\n",
       "      <td>TV-MA</td>\n",
       "      <td>93 min</td>\n",
       "      <td>Dramas, International Movies</td>\n",
       "      <td>After a devastating earthquake hits Mexico Cit...</td>\n",
       "      <td>[Mexico]</td>\n",
       "    </tr>\n",
       "  </tbody>\n",
       "</table>\n",
       "</div>"
      ],
      "text/plain": [
       "  show_id     type title           director  \\\n",
       "0      s1  TV Show    3%                NaN   \n",
       "1      s2    Movie  7:19  Jorge Michel Grau   \n",
       "\n",
       "                                                cast country  \\\n",
       "0  João Miguel, Bianca Comparato, Michel Gomes, R...  Brazil   \n",
       "1  Demián Bichir, Héctor Bonilla, Oscar Serrano, ...  Mexico   \n",
       "\n",
       "          date_added release_year rating   duration  \\\n",
       "0    August 14, 2020         2020  TV-MA  4 Seasons   \n",
       "1  December 23, 2016         2016  TV-MA     93 min   \n",
       "\n",
       "                                           listed_in  \\\n",
       "0  International TV Shows, TV Dramas, TV Sci-Fi &...   \n",
       "1                       Dramas, International Movies   \n",
       "\n",
       "                                         description cnt_country  \n",
       "0  In a future where the elite inhabit an island ...    [Brazil]  \n",
       "1  After a devastating earthquake hits Mexico Cit...    [Mexico]  "
      ]
     },
     "execution_count": 13,
     "metadata": {},
     "output_type": "execute_result"
    }
   ],
   "source": [
    "df.head(2)"
   ]
  },
  {
   "cell_type": "code",
   "execution_count": 14,
   "id": "heavy-florist",
   "metadata": {},
   "outputs": [
    {
     "data": {
      "text/plain": [
       "0    [Brazil]\n",
       "1    [Mexico]\n",
       "Name: cnt_country, dtype: object"
      ]
     },
     "execution_count": 14,
     "metadata": {},
     "output_type": "execute_result"
    }
   ],
   "source": [
    "df['cnt_country'].head(2)"
   ]
  },
  {
   "cell_type": "markdown",
   "id": "violent-landing",
   "metadata": {},
   "source": [
    "우선 split 메서드가 제대로 작동은 한다.  \n",
    "하지만, split 메서드가 list로 return 하기 때문에 list 형식으로 받아졌다.  \n",
    "이제 is_single column을 apply를 수정해서 다시 list length로 나오도록 해보자  "
   ]
  },
  {
   "cell_type": "code",
   "execution_count": 15,
   "id": "regulated-induction",
   "metadata": {},
   "outputs": [
    {
     "data": {
      "text/html": [
       "<div>\n",
       "<style scoped>\n",
       "    .dataframe tbody tr th:only-of-type {\n",
       "        vertical-align: middle;\n",
       "    }\n",
       "\n",
       "    .dataframe tbody tr th {\n",
       "        vertical-align: top;\n",
       "    }\n",
       "\n",
       "    .dataframe thead th {\n",
       "        text-align: right;\n",
       "    }\n",
       "</style>\n",
       "<table border=\"1\" class=\"dataframe\">\n",
       "  <thead>\n",
       "    <tr style=\"text-align: right;\">\n",
       "      <th></th>\n",
       "      <th>show_id</th>\n",
       "      <th>type</th>\n",
       "      <th>title</th>\n",
       "      <th>director</th>\n",
       "      <th>cast</th>\n",
       "      <th>country</th>\n",
       "      <th>date_added</th>\n",
       "      <th>release_year</th>\n",
       "      <th>rating</th>\n",
       "      <th>duration</th>\n",
       "      <th>listed_in</th>\n",
       "      <th>description</th>\n",
       "      <th>cnt_country</th>\n",
       "    </tr>\n",
       "  </thead>\n",
       "  <tbody>\n",
       "    <tr>\n",
       "      <th>27</th>\n",
       "      <td>s28</td>\n",
       "      <td>Movie</td>\n",
       "      <td>#Alive</td>\n",
       "      <td>Cho Il</td>\n",
       "      <td>Yoo Ah-in, Park Shin-hye</td>\n",
       "      <td>South Korea</td>\n",
       "      <td>September 8, 2020</td>\n",
       "      <td>2020</td>\n",
       "      <td>TV-MA</td>\n",
       "      <td>99 min</td>\n",
       "      <td>Horror Movies, International Movies, Thrillers</td>\n",
       "      <td>As a grisly virus rampages a city, a lone man ...</td>\n",
       "      <td>1</td>\n",
       "    </tr>\n",
       "    <tr>\n",
       "      <th>51</th>\n",
       "      <td>s52</td>\n",
       "      <td>TV Show</td>\n",
       "      <td>100 Days My Prince</td>\n",
       "      <td>NaN</td>\n",
       "      <td>Doh Kyung-soo, Nam Ji-hyun, Cho Seong-ha, Cho ...</td>\n",
       "      <td>South Korea</td>\n",
       "      <td>December 7, 2020</td>\n",
       "      <td>2018</td>\n",
       "      <td>TV-14</td>\n",
       "      <td>1 Season</td>\n",
       "      <td>International TV Shows, Romantic TV Shows, TV ...</td>\n",
       "      <td>Upon losing his memory, a crown prince encount...</td>\n",
       "      <td>1</td>\n",
       "    </tr>\n",
       "  </tbody>\n",
       "</table>\n",
       "</div>"
      ],
      "text/plain": [
       "   show_id     type               title director  \\\n",
       "27     s28    Movie              #Alive   Cho Il   \n",
       "51     s52  TV Show  100 Days My Prince      NaN   \n",
       "\n",
       "                                                 cast      country  \\\n",
       "27                           Yoo Ah-in, Park Shin-hye  South Korea   \n",
       "51  Doh Kyung-soo, Nam Ji-hyun, Cho Seong-ha, Cho ...  South Korea   \n",
       "\n",
       "           date_added release_year rating  duration  \\\n",
       "27  September 8, 2020         2020  TV-MA    99 min   \n",
       "51   December 7, 2020         2018  TV-14  1 Season   \n",
       "\n",
       "                                            listed_in  \\\n",
       "27     Horror Movies, International Movies, Thrillers   \n",
       "51  International TV Shows, Romantic TV Shows, TV ...   \n",
       "\n",
       "                                          description  cnt_country  \n",
       "27  As a grisly virus rampages a city, a lone man ...            1  \n",
       "51  Upon losing his memory, a crown prince encount...            1  "
      ]
     },
     "metadata": {},
     "output_type": "display_data"
    }
   ],
   "source": [
    "df['cnt_country'] = df['country'].apply(lambda x: len(x.split(\",\")))\n",
    "display(df[df['country']==\"South Korea\"].head(2))"
   ]
  },
  {
   "cell_type": "markdown",
   "id": "ranging-gathering",
   "metadata": {},
   "source": [
    "의도한 대로 나왔다.  \n",
    "groupby 를 사용해보자.  "
   ]
  },
  {
   "cell_type": "code",
   "execution_count": 16,
   "id": "satisfied-member",
   "metadata": {},
   "outputs": [
    {
     "data": {
      "text/html": [
       "<div>\n",
       "<style scoped>\n",
       "    .dataframe tbody tr th:only-of-type {\n",
       "        vertical-align: middle;\n",
       "    }\n",
       "\n",
       "    .dataframe tbody tr th {\n",
       "        vertical-align: top;\n",
       "    }\n",
       "\n",
       "    .dataframe thead th {\n",
       "        text-align: right;\n",
       "    }\n",
       "</style>\n",
       "<table border=\"1\" class=\"dataframe\">\n",
       "  <thead>\n",
       "    <tr style=\"text-align: right;\">\n",
       "      <th></th>\n",
       "      <th>cnt_country</th>\n",
       "    </tr>\n",
       "    <tr>\n",
       "      <th>country</th>\n",
       "      <th></th>\n",
       "    </tr>\n",
       "  </thead>\n",
       "  <tbody>\n",
       "    <tr>\n",
       "      <th>United States</th>\n",
       "      <td>2555</td>\n",
       "    </tr>\n",
       "    <tr>\n",
       "      <th>India</th>\n",
       "      <td>923</td>\n",
       "    </tr>\n",
       "    <tr>\n",
       "      <th>Not Assigned</th>\n",
       "      <td>507</td>\n",
       "    </tr>\n",
       "    <tr>\n",
       "      <th>United Kingdom</th>\n",
       "      <td>397</td>\n",
       "    </tr>\n",
       "    <tr>\n",
       "      <th>Japan</th>\n",
       "      <td>226</td>\n",
       "    </tr>\n",
       "    <tr>\n",
       "      <th>...</th>\n",
       "      <td>...</td>\n",
       "    </tr>\n",
       "    <tr>\n",
       "      <th>Indonesia, South Korea, Singapore</th>\n",
       "      <td>1</td>\n",
       "    </tr>\n",
       "    <tr>\n",
       "      <th>Indonesia, United Kingdom</th>\n",
       "      <td>1</td>\n",
       "    </tr>\n",
       "    <tr>\n",
       "      <th>Indonesia, United States</th>\n",
       "      <td>1</td>\n",
       "    </tr>\n",
       "    <tr>\n",
       "      <th>Iran, France</th>\n",
       "      <td>1</td>\n",
       "    </tr>\n",
       "    <tr>\n",
       "      <th>Zimbabwe</th>\n",
       "      <td>1</td>\n",
       "    </tr>\n",
       "  </tbody>\n",
       "</table>\n",
       "<p>682 rows × 1 columns</p>\n",
       "</div>"
      ],
      "text/plain": [
       "                                   cnt_country\n",
       "country                                       \n",
       "United States                             2555\n",
       "India                                      923\n",
       "Not Assigned                               507\n",
       "United Kingdom                             397\n",
       "Japan                                      226\n",
       "...                                        ...\n",
       "Indonesia, South Korea, Singapore            1\n",
       "Indonesia, United Kingdom                    1\n",
       "Indonesia, United States                     1\n",
       "Iran, France                                 1\n",
       "Zimbabwe                                     1\n",
       "\n",
       "[682 rows x 1 columns]"
      ]
     },
     "execution_count": 16,
     "metadata": {},
     "output_type": "execute_result"
    }
   ],
   "source": [
    "df[['country','cnt_country']].groupby(['country']).count().sort_values(by='cnt_country',ascending=False)"
   ]
  },
  {
   "cell_type": "markdown",
   "id": "acoustic-words",
   "metadata": {},
   "source": [
    "value_counts() 메서드와 동일한 결과를 보여준다.  \n",
    "is_single column을 만들었기 때문에 단일 국가 기준으로 다양한 EDA도 가능해졌다.  "
   ]
  },
  {
   "cell_type": "markdown",
   "id": "unable-bradley",
   "metadata": {},
   "source": [
    "## Country 카테고리의 개수가 많은 컨텐츠들"
   ]
  },
  {
   "cell_type": "code",
   "execution_count": 17,
   "id": "recreational-broadway",
   "metadata": {},
   "outputs": [
    {
     "data": {
      "text/plain": [
       "1     6634\n",
       "2      763\n",
       "3      240\n",
       "4       95\n",
       "5       33\n",
       "6       14\n",
       "7        5\n",
       "8        1\n",
       "12       1\n",
       "10       1\n",
       "Name: cnt_country, dtype: int64"
      ]
     },
     "execution_count": 17,
     "metadata": {},
     "output_type": "execute_result"
    }
   ],
   "source": [
    "df['cnt_country'].value_counts()"
   ]
  },
  {
   "cell_type": "markdown",
   "id": "arranged-gospel",
   "metadata": {},
   "source": [
    "단일 국가 제작이 역시 제일 많다.  \n",
    "근데 8, 12, 10개 국가 제작 컨텐츠는 대체 뭘까"
   ]
  },
  {
   "cell_type": "code",
   "execution_count": 18,
   "id": "heavy-discount",
   "metadata": {},
   "outputs": [
    {
     "data": {
      "text/html": [
       "<div>\n",
       "<style scoped>\n",
       "    .dataframe tbody tr th:only-of-type {\n",
       "        vertical-align: middle;\n",
       "    }\n",
       "\n",
       "    .dataframe tbody tr th {\n",
       "        vertical-align: top;\n",
       "    }\n",
       "\n",
       "    .dataframe thead th {\n",
       "        text-align: right;\n",
       "    }\n",
       "</style>\n",
       "<table border=\"1\" class=\"dataframe\">\n",
       "  <thead>\n",
       "    <tr style=\"text-align: right;\">\n",
       "      <th></th>\n",
       "      <th>show_id</th>\n",
       "      <th>type</th>\n",
       "      <th>title</th>\n",
       "      <th>director</th>\n",
       "      <th>cast</th>\n",
       "      <th>country</th>\n",
       "      <th>date_added</th>\n",
       "      <th>release_year</th>\n",
       "      <th>rating</th>\n",
       "      <th>duration</th>\n",
       "      <th>listed_in</th>\n",
       "      <th>description</th>\n",
       "      <th>cnt_country</th>\n",
       "    </tr>\n",
       "  </thead>\n",
       "  <tbody>\n",
       "    <tr>\n",
       "      <th>732</th>\n",
       "      <td>s733</td>\n",
       "      <td>Movie</td>\n",
       "      <td>Barbecue</td>\n",
       "      <td>Matthew Salleh</td>\n",
       "      <td>NaN</td>\n",
       "      <td>Australia, Armenia, Japan, Jordan, Mexico, Mon...</td>\n",
       "      <td>August 15, 2017</td>\n",
       "      <td>2017</td>\n",
       "      <td>TV-MA</td>\n",
       "      <td>101 min</td>\n",
       "      <td>Documentaries, International Movies</td>\n",
       "      <td>A blend of cultural nuance and mesmerizing tec...</td>\n",
       "      <td>12</td>\n",
       "    </tr>\n",
       "    <tr>\n",
       "      <th>6615</th>\n",
       "      <td>s6616</td>\n",
       "      <td>Movie</td>\n",
       "      <td>The Look of Silence</td>\n",
       "      <td>Joshua Oppenheimer</td>\n",
       "      <td>NaN</td>\n",
       "      <td>Denmark, Indonesia, Finland, Norway, United Ki...</td>\n",
       "      <td>February 26, 2016</td>\n",
       "      <td>2014</td>\n",
       "      <td>PG-13</td>\n",
       "      <td>103 min</td>\n",
       "      <td>Documentaries, International Movies</td>\n",
       "      <td>In a society terrorized into silence, the brot...</td>\n",
       "      <td>10</td>\n",
       "    </tr>\n",
       "    <tr>\n",
       "      <th>6784</th>\n",
       "      <td>s6785</td>\n",
       "      <td>Movie</td>\n",
       "      <td>The Professor and the Madman</td>\n",
       "      <td>Farhad Safinia</td>\n",
       "      <td>Mel Gibson, Sean Penn, Natalie Dormer, Eddie M...</td>\n",
       "      <td>Ireland, France, Iceland, United States, Mexic...</td>\n",
       "      <td>December 15, 2020</td>\n",
       "      <td>2019</td>\n",
       "      <td>TV-14</td>\n",
       "      <td>125 min</td>\n",
       "      <td>Dramas, Independent Movies</td>\n",
       "      <td>While working on the first Oxford English Dict...</td>\n",
       "      <td>8</td>\n",
       "    </tr>\n",
       "  </tbody>\n",
       "</table>\n",
       "</div>"
      ],
      "text/plain": [
       "     show_id   type                         title            director  \\\n",
       "732     s733  Movie                      Barbecue      Matthew Salleh   \n",
       "6615   s6616  Movie           The Look of Silence  Joshua Oppenheimer   \n",
       "6784   s6785  Movie  The Professor and the Madman      Farhad Safinia   \n",
       "\n",
       "                                                   cast  \\\n",
       "732                                                 NaN   \n",
       "6615                                                NaN   \n",
       "6784  Mel Gibson, Sean Penn, Natalie Dormer, Eddie M...   \n",
       "\n",
       "                                                country         date_added  \\\n",
       "732   Australia, Armenia, Japan, Jordan, Mexico, Mon...    August 15, 2017   \n",
       "6615  Denmark, Indonesia, Finland, Norway, United Ki...  February 26, 2016   \n",
       "6784  Ireland, France, Iceland, United States, Mexic...  December 15, 2020   \n",
       "\n",
       "     release_year rating duration                            listed_in  \\\n",
       "732          2017  TV-MA  101 min  Documentaries, International Movies   \n",
       "6615         2014  PG-13  103 min  Documentaries, International Movies   \n",
       "6784         2019  TV-14  125 min           Dramas, Independent Movies   \n",
       "\n",
       "                                            description  cnt_country  \n",
       "732   A blend of cultural nuance and mesmerizing tec...           12  \n",
       "6615  In a society terrorized into silence, the brot...           10  \n",
       "6784  While working on the first Oxford English Dict...            8  "
      ]
     },
     "execution_count": 18,
     "metadata": {},
     "output_type": "execute_result"
    }
   ],
   "source": [
    "df[df['cnt_country'] > 7]"
   ]
  },
  {
   "cell_type": "markdown",
   "id": "ordinary-thursday",
   "metadata": {},
   "source": [
    "> **Barbecue**:  \n",
    "Filmmakers Matthew Salleh and Rose Tucker have travelled the globe, finding what it is that makes us human, what unites us in an increasingly uncertain world.  \n",
    "다큐멘터리다.  \n",
    "\n",
    "> **The Look of Silence(침묵의 시선)**:  \n",
    "1960년대 인도네시아 군부정권시절 학살을 다루는 영화라고 한다.  \n",
    "\n",
    "> **The Professor and the Madman**:\n",
    "옥스퍼드 사전 편찬 프로젝트를 컨텐츠로 삼은 영화라고 한다.  "
   ]
  },
  {
   "cell_type": "markdown",
   "id": "foster-engagement",
   "metadata": {},
   "source": [
    "역시 다큐멘터리 장르가 country를 많이 이동하면서 찍다보니 country 카테고리의 개수가 상대적으로 많은 듯 하다.  \n",
    "\n",
    "--- "
   ]
  },
  {
   "cell_type": "markdown",
   "id": "friendly-palmer",
   "metadata": {},
   "source": [
    "<br>"
   ]
  },
  {
   "cell_type": "markdown",
   "id": "hidden-television",
   "metadata": {},
   "source": [
    "<img src=\"image/bitcoin_vs_ethereum.jpg\" width=\"40%\" height=\"40%\" align=\"center\"> \n",
    "\n",
    "# **Mission 2. 가즈아!**\n",
    "\n",
    "## **Mandatory Part**\n",
    "\n",
    "### Q: Draw a plot of MA(5) of Bitcoin between 2016-06 and 2017-06."
   ]
  },
  {
   "cell_type": "markdown",
   "id": "immediate-humanitarian",
   "metadata": {},
   "source": [
    "### **Data Preprocessing**"
   ]
  },
  {
   "cell_type": "code",
   "execution_count": 19,
   "id": "simplified-double",
   "metadata": {},
   "outputs": [
    {
     "data": {
      "text/html": [
       "<div>\n",
       "<style scoped>\n",
       "    .dataframe tbody tr th:only-of-type {\n",
       "        vertical-align: middle;\n",
       "    }\n",
       "\n",
       "    .dataframe tbody tr th {\n",
       "        vertical-align: top;\n",
       "    }\n",
       "\n",
       "    .dataframe thead th {\n",
       "        text-align: right;\n",
       "    }\n",
       "</style>\n",
       "<table border=\"1\" class=\"dataframe\">\n",
       "  <thead>\n",
       "    <tr style=\"text-align: right;\">\n",
       "      <th></th>\n",
       "      <th>Date</th>\n",
       "      <th>Open</th>\n",
       "      <th>High</th>\n",
       "      <th>Low</th>\n",
       "      <th>Close</th>\n",
       "      <th>Volume</th>\n",
       "      <th>Market Cap</th>\n",
       "    </tr>\n",
       "  </thead>\n",
       "  <tbody>\n",
       "    <tr>\n",
       "      <th>0</th>\n",
       "      <td>2017-09-22</td>\n",
       "      <td>3628.02</td>\n",
       "      <td>3758.27</td>\n",
       "      <td>3553.53</td>\n",
       "      <td>3630.70</td>\n",
       "      <td>1.194830e+09</td>\n",
       "      <td>60152300000</td>\n",
       "    </tr>\n",
       "    <tr>\n",
       "      <th>1</th>\n",
       "      <td>2017-09-21</td>\n",
       "      <td>3901.47</td>\n",
       "      <td>3916.42</td>\n",
       "      <td>3613.63</td>\n",
       "      <td>3631.04</td>\n",
       "      <td>1.411480e+09</td>\n",
       "      <td>64677600000</td>\n",
       "    </tr>\n",
       "  </tbody>\n",
       "</table>\n",
       "</div>"
      ],
      "text/plain": [
       "         Date     Open     High      Low    Close        Volume   Market Cap\n",
       "0  2017-09-22  3628.02  3758.27  3553.53  3630.70  1.194830e+09  60152300000\n",
       "1  2017-09-21  3901.47  3916.42  3613.63  3631.04  1.411480e+09  64677600000"
      ]
     },
     "execution_count": 19,
     "metadata": {},
     "output_type": "execute_result"
    }
   ],
   "source": [
    "df = pd.read_csv(\"data/BitCoin.csv\", index_col = 0) # unnamed column 이 있기 때문에, 아마 to_csv 하면서 index=False 을 안 넣어준듯\n",
    "df.head(2)"
   ]
  },
  {
   "cell_type": "markdown",
   "id": "entertaining-bullet",
   "metadata": {},
   "source": [
    "Sorting이 안되어 있기 때문에 sort부터 하고  \n",
    "rolling 해준다음에  \n",
    "요구한 기간만큼의 데이터만 slicing  "
   ]
  },
  {
   "cell_type": "code",
   "execution_count": 20,
   "id": "hundred-hungary",
   "metadata": {},
   "outputs": [
    {
     "data": {
      "text/html": [
       "<div>\n",
       "<style scoped>\n",
       "    .dataframe tbody tr th:only-of-type {\n",
       "        vertical-align: middle;\n",
       "    }\n",
       "\n",
       "    .dataframe tbody tr th {\n",
       "        vertical-align: top;\n",
       "    }\n",
       "\n",
       "    .dataframe thead th {\n",
       "        text-align: right;\n",
       "    }\n",
       "</style>\n",
       "<table border=\"1\" class=\"dataframe\">\n",
       "  <thead>\n",
       "    <tr style=\"text-align: right;\">\n",
       "      <th></th>\n",
       "      <th>Date</th>\n",
       "      <th>Open</th>\n",
       "      <th>High</th>\n",
       "      <th>Low</th>\n",
       "      <th>Close</th>\n",
       "      <th>Volume</th>\n",
       "      <th>Market Cap</th>\n",
       "      <th>MA5</th>\n",
       "    </tr>\n",
       "  </thead>\n",
       "  <tbody>\n",
       "    <tr>\n",
       "      <th>1605</th>\n",
       "      <td>2013-01-05</td>\n",
       "      <td>139.00</td>\n",
       "      <td>139.89</td>\n",
       "      <td>107.72</td>\n",
       "      <td>116.99</td>\n",
       "      <td>8026718.801</td>\n",
       "      <td>1542820000</td>\n",
       "      <td>NaN</td>\n",
       "    </tr>\n",
       "    <tr>\n",
       "      <th>1574</th>\n",
       "      <td>2013-01-06</td>\n",
       "      <td>128.81</td>\n",
       "      <td>129.78</td>\n",
       "      <td>127.20</td>\n",
       "      <td>129.30</td>\n",
       "      <td>7521959.816</td>\n",
       "      <td>1445800000</td>\n",
       "      <td>NaN</td>\n",
       "    </tr>\n",
       "  </tbody>\n",
       "</table>\n",
       "</div>"
      ],
      "text/plain": [
       "            Date    Open    High     Low   Close       Volume  Market Cap  MA5\n",
       "1605  2013-01-05  139.00  139.89  107.72  116.99  8026718.801  1542820000  NaN\n",
       "1574  2013-01-06  128.81  129.78  127.20  129.30  7521959.816  1445800000  NaN"
      ]
     },
     "metadata": {},
     "output_type": "display_data"
    }
   ],
   "source": [
    "df.sort_values(['Date'],inplace=True)\n",
    "df[\"MA5\"] = df['Open'].rolling(window=5).mean()\n",
    "display(df.head(2))"
   ]
  },
  {
   "cell_type": "code",
   "execution_count": 21,
   "id": "laughing-muslim",
   "metadata": {},
   "outputs": [
    {
     "data": {
      "text/plain": [
       "(1609, 8)"
      ]
     },
     "metadata": {},
     "output_type": "display_data"
    },
    {
     "data": {
      "text/plain": [
       "(377, 8)"
      ]
     },
     "metadata": {},
     "output_type": "display_data"
    }
   ],
   "source": [
    "display(df.shape)\n",
    "df = df[(\"2016-06-01\" <= df['Date'])& (df['Date'] <= \"2017-06-30\")] # 2016.6 ~ 2017.6\n",
    "display(df.shape)"
   ]
  },
  {
   "cell_type": "markdown",
   "id": "veterinary-garbage",
   "metadata": {},
   "source": [
    "많이 줄었다.  "
   ]
  },
  {
   "cell_type": "code",
   "execution_count": 22,
   "id": "interpreted-thumb",
   "metadata": {},
   "outputs": [
    {
     "data": {
      "text/html": [
       "<div>\n",
       "<style scoped>\n",
       "    .dataframe tbody tr th:only-of-type {\n",
       "        vertical-align: middle;\n",
       "    }\n",
       "\n",
       "    .dataframe tbody tr th {\n",
       "        vertical-align: top;\n",
       "    }\n",
       "\n",
       "    .dataframe thead th {\n",
       "        text-align: right;\n",
       "    }\n",
       "</style>\n",
       "<table border=\"1\" class=\"dataframe\">\n",
       "  <thead>\n",
       "    <tr style=\"text-align: right;\">\n",
       "      <th></th>\n",
       "      <th>Date</th>\n",
       "      <th>Open</th>\n",
       "      <th>High</th>\n",
       "      <th>Low</th>\n",
       "      <th>Close</th>\n",
       "      <th>Volume</th>\n",
       "      <th>Market Cap</th>\n",
       "      <th>MA5</th>\n",
       "    </tr>\n",
       "  </thead>\n",
       "  <tbody>\n",
       "    <tr>\n",
       "      <th>625</th>\n",
       "      <td>2016-06-01</td>\n",
       "      <td>431.86</td>\n",
       "      <td>431.86</td>\n",
       "      <td>426.34</td>\n",
       "      <td>429.11</td>\n",
       "      <td>34042500.0</td>\n",
       "      <td>6498830000</td>\n",
       "      <td>499.006</td>\n",
       "    </tr>\n",
       "    <tr>\n",
       "      <th>594</th>\n",
       "      <td>2016-06-02</td>\n",
       "      <td>386.59</td>\n",
       "      <td>386.63</td>\n",
       "      <td>372.39</td>\n",
       "      <td>376.52</td>\n",
       "      <td>49249300.0</td>\n",
       "      <td>5865740000</td>\n",
       "      <td>481.718</td>\n",
       "    </tr>\n",
       "    <tr>\n",
       "      <th>565</th>\n",
       "      <td>2016-06-03</td>\n",
       "      <td>400.52</td>\n",
       "      <td>411.91</td>\n",
       "      <td>395.78</td>\n",
       "      <td>407.71</td>\n",
       "      <td>91212500.0</td>\n",
       "      <td>6121400000</td>\n",
       "      <td>456.326</td>\n",
       "    </tr>\n",
       "  </tbody>\n",
       "</table>\n",
       "</div>"
      ],
      "text/plain": [
       "           Date    Open    High     Low   Close      Volume  Market Cap  \\\n",
       "625  2016-06-01  431.86  431.86  426.34  429.11  34042500.0  6498830000   \n",
       "594  2016-06-02  386.59  386.63  372.39  376.52  49249300.0  5865740000   \n",
       "565  2016-06-03  400.52  411.91  395.78  407.71  91212500.0  6121400000   \n",
       "\n",
       "         MA5  \n",
       "625  499.006  \n",
       "594  481.718  \n",
       "565  456.326  "
      ]
     },
     "metadata": {},
     "output_type": "display_data"
    },
    {
     "data": {
      "text/html": [
       "<div>\n",
       "<style scoped>\n",
       "    .dataframe tbody tr th:only-of-type {\n",
       "        vertical-align: middle;\n",
       "    }\n",
       "\n",
       "    .dataframe tbody tr th {\n",
       "        vertical-align: top;\n",
       "    }\n",
       "\n",
       "    .dataframe thead th {\n",
       "        text-align: right;\n",
       "    }\n",
       "</style>\n",
       "<table border=\"1\" class=\"dataframe\">\n",
       "  <thead>\n",
       "    <tr style=\"text-align: right;\">\n",
       "      <th></th>\n",
       "      <th>Date</th>\n",
       "      <th>Open</th>\n",
       "      <th>High</th>\n",
       "      <th>Low</th>\n",
       "      <th>Close</th>\n",
       "      <th>Volume</th>\n",
       "      <th>Market Cap</th>\n",
       "      <th>MA5</th>\n",
       "    </tr>\n",
       "  </thead>\n",
       "  <tbody>\n",
       "    <tr>\n",
       "      <th>86</th>\n",
       "      <td>2017-06-28</td>\n",
       "      <td>2553.03</td>\n",
       "      <td>2603.98</td>\n",
       "      <td>2484.42</td>\n",
       "      <td>2574.79</td>\n",
       "      <td>1.183870e+09</td>\n",
       "      <td>41906700000</td>\n",
       "      <td>2593.564</td>\n",
       "    </tr>\n",
       "    <tr>\n",
       "      <th>85</th>\n",
       "      <td>2017-06-29</td>\n",
       "      <td>2567.56</td>\n",
       "      <td>2588.83</td>\n",
       "      <td>2510.48</td>\n",
       "      <td>2539.32</td>\n",
       "      <td>9.499790e+08</td>\n",
       "      <td>42150300000</td>\n",
       "      <td>2559.372</td>\n",
       "    </tr>\n",
       "    <tr>\n",
       "      <th>84</th>\n",
       "      <td>2017-06-30</td>\n",
       "      <td>2539.24</td>\n",
       "      <td>2559.25</td>\n",
       "      <td>2478.43</td>\n",
       "      <td>2480.84</td>\n",
       "      <td>8.602730e+08</td>\n",
       "      <td>41689100000</td>\n",
       "      <td>2545.770</td>\n",
       "    </tr>\n",
       "  </tbody>\n",
       "</table>\n",
       "</div>"
      ],
      "text/plain": [
       "          Date     Open     High      Low    Close        Volume   Market Cap  \\\n",
       "86  2017-06-28  2553.03  2603.98  2484.42  2574.79  1.183870e+09  41906700000   \n",
       "85  2017-06-29  2567.56  2588.83  2510.48  2539.32  9.499790e+08  42150300000   \n",
       "84  2017-06-30  2539.24  2559.25  2478.43  2480.84  8.602730e+08  41689100000   \n",
       "\n",
       "         MA5  \n",
       "86  2593.564  \n",
       "85  2559.372  \n",
       "84  2545.770  "
      ]
     },
     "metadata": {},
     "output_type": "display_data"
    },
    {
     "data": {
      "text/plain": [
       "'2016-06-01'"
      ]
     },
     "metadata": {},
     "output_type": "display_data"
    },
    {
     "data": {
      "text/plain": [
       "'2017-06-30'"
      ]
     },
     "metadata": {},
     "output_type": "display_data"
    }
   ],
   "source": [
    "# head and tail로 정확히 나오는지 확인, min, max로도\n",
    "display(df.head(3))\n",
    "display(df.tail(3))\n",
    "display(df['Date'].min(), df['Date'].max())"
   ]
  },
  {
   "cell_type": "markdown",
   "id": "thousand-excitement",
   "metadata": {},
   "source": [
    "### **Plotting**"
   ]
  },
  {
   "cell_type": "code",
   "execution_count": 23,
   "id": "alternate-scene",
   "metadata": {},
   "outputs": [
    {
     "data": {
      "image/png": "[encoded data removed]",
      "text/plain": [
       "<Figure size 1440x360 with 1 Axes>"
      ]
     },
     "metadata": {
      "needs_background": "light"
     },
     "output_type": "display_data"
    }
   ],
   "source": [
    "import matplotlib.pyplot as plt\n",
    "import seaborn as sns\n",
    "\n",
    "plt.figure(figsize=(20, 5))\n",
    "fig = sns.lineplot(df['Date'], df['MA5'],color=\"#f2a900\");\n",
    "fig.set(xlabel='Date', ylabel='Open Price')\n",
    "plt.show()"
   ]
  },
  {
   "cell_type": "markdown",
   "id": "oriented-distance",
   "metadata": {},
   "source": [
    "역시 date column 너무 촘촘하게 있다보니 언제 살껄 포인트가 잘 보이지 않는다"
   ]
  },
  {
   "cell_type": "code",
   "execution_count": 24,
   "id": "nervous-kinase",
   "metadata": {},
   "outputs": [
    {
     "data": {
      "image/png": "[encoded data removed]",
      "text/plain": [
       "<Figure size 1440x360 with 1 Axes>"
      ]
     },
     "metadata": {
      "needs_background": "light"
     },
     "output_type": "display_data"
    }
   ],
   "source": [
    "plt.figure(figsize=(20, 5))\n",
    "ax = sns.lineplot(df['Date'], df['MA5'],color=\"#f2a900\")\n",
    "ax.set(xlabel='Date', ylabel='Open Price')\n",
    "plt.xticks(rotation=90)\n",
    "plt.show();"
   ]
  },
  {
   "cell_type": "markdown",
   "id": "fifth-courage",
   "metadata": {},
   "source": [
    "90도로 해봤지만 소용이 없다 역시  \n",
    "x축 데이터를 month로 바꿀까 week으로 바꿀까"
   ]
  },
  {
   "cell_type": "code",
   "execution_count": 25,
   "id": "native-recall",
   "metadata": {},
   "outputs": [
    {
     "data": {
      "text/html": [
       "<div>\n",
       "<style scoped>\n",
       "    .dataframe tbody tr th:only-of-type {\n",
       "        vertical-align: middle;\n",
       "    }\n",
       "\n",
       "    .dataframe tbody tr th {\n",
       "        vertical-align: top;\n",
       "    }\n",
       "\n",
       "    .dataframe thead th {\n",
       "        text-align: right;\n",
       "    }\n",
       "</style>\n",
       "<table border=\"1\" class=\"dataframe\">\n",
       "  <thead>\n",
       "    <tr style=\"text-align: right;\">\n",
       "      <th></th>\n",
       "      <th>Date</th>\n",
       "      <th>Open</th>\n",
       "      <th>High</th>\n",
       "      <th>Low</th>\n",
       "      <th>Close</th>\n",
       "      <th>Volume</th>\n",
       "      <th>Market Cap</th>\n",
       "      <th>MA5</th>\n",
       "      <th>YM</th>\n",
       "    </tr>\n",
       "  </thead>\n",
       "  <tbody>\n",
       "    <tr>\n",
       "      <th>625</th>\n",
       "      <td>2016-06-01</td>\n",
       "      <td>431.86</td>\n",
       "      <td>431.86</td>\n",
       "      <td>426.34</td>\n",
       "      <td>429.11</td>\n",
       "      <td>34042500.0</td>\n",
       "      <td>6498830000</td>\n",
       "      <td>499.006</td>\n",
       "      <td>2016-06</td>\n",
       "    </tr>\n",
       "    <tr>\n",
       "      <th>594</th>\n",
       "      <td>2016-06-02</td>\n",
       "      <td>386.59</td>\n",
       "      <td>386.63</td>\n",
       "      <td>372.39</td>\n",
       "      <td>376.52</td>\n",
       "      <td>49249300.0</td>\n",
       "      <td>5865740000</td>\n",
       "      <td>481.718</td>\n",
       "      <td>2016-06</td>\n",
       "    </tr>\n",
       "  </tbody>\n",
       "</table>\n",
       "</div>"
      ],
      "text/plain": [
       "          Date    Open    High     Low   Close      Volume  Market Cap  \\\n",
       "625 2016-06-01  431.86  431.86  426.34  429.11  34042500.0  6498830000   \n",
       "594 2016-06-02  386.59  386.63  372.39  376.52  49249300.0  5865740000   \n",
       "\n",
       "         MA5       YM  \n",
       "625  499.006  2016-06  \n",
       "594  481.718  2016-06  "
      ]
     },
     "execution_count": 25,
     "metadata": {},
     "output_type": "execute_result"
    }
   ],
   "source": [
    "df['Date'] = pd.to_datetime(df['Date'])\n",
    "df['YM'] = df['Date'].dt.strftime('%Y-%m')\n",
    "df.head(2)"
   ]
  },
  {
   "cell_type": "code",
   "execution_count": 26,
   "id": "acting-montgomery",
   "metadata": {},
   "outputs": [
    {
     "data": {
      "image/png": "[encoded data removed]",
      "text/plain": [
       "<Figure size 1440x360 with 1 Axes>"
      ]
     },
     "metadata": {
      "needs_background": "light"
     },
     "output_type": "display_data"
    }
   ],
   "source": [
    "# sns.lineplot은 confidence interval 옵션도 있다. \n",
    "plt.figure(figsize=(20, 5))\n",
    "ax = sns.lineplot(df['YM'], df['MA5'],color=\"#f2a900\", legend=\"full\")\n",
    "ax.set(xlabel='YM', ylabel='Open Price')\n",
    "plt.xticks(rotation=15)\n",
    "plt.title(\"MA(5) BTC Y-M 2016-06 ~ 2017-06\", fontsize=20)\n",
    "plt.grid()\n",
    "plt.show();"
   ]
  },
  {
   "cell_type": "code",
   "execution_count": 27,
   "id": "controlled-alfred",
   "metadata": {},
   "outputs": [
    {
     "data": {
      "image/png": "[encoded data removed]",
      "text/plain": [
       "<Figure size 1440x360 with 1 Axes>"
      ]
     },
     "metadata": {
      "needs_background": "light"
     },
     "output_type": "display_data"
    }
   ],
   "source": [
    "# sns.lineplot은 confidence interval 옵션도 있다. \n",
    "plt.figure(figsize=(20, 5))\n",
    "ax = sns.lineplot(df['YM'], df['MA5'],color=\"#f2a900\", ci=0)\n",
    "ax.set(xlabel='YM', ylabel='Open Price')\n",
    "plt.xticks(rotation=15)\n",
    "plt.title(\"MA(5) BTC Y-M 2016-06 ~ 2017-06\", fontsize=20)\n",
    "plt.grid(alpha=0.33)\n",
    "plt.show();"
   ]
  },
  {
   "cell_type": "markdown",
   "id": "republican-gospel",
   "metadata": {},
   "source": [
    "#### 2016년 12월에 살껄 "
   ]
  },
  {
   "cell_type": "markdown",
   "id": "bottom-homework",
   "metadata": {},
   "source": [
    "## **Bonus Part**\n",
    "\n",
    "### **Plot Bitcoin and Ethereum of MA-5**"
   ]
  },
  {
   "cell_type": "code",
   "execution_count": 28,
   "id": "disturbed-danger",
   "metadata": {},
   "outputs": [
    {
     "data": {
      "text/html": [
       "<div>\n",
       "<style scoped>\n",
       "    .dataframe tbody tr th:only-of-type {\n",
       "        vertical-align: middle;\n",
       "    }\n",
       "\n",
       "    .dataframe tbody tr th {\n",
       "        vertical-align: top;\n",
       "    }\n",
       "\n",
       "    .dataframe thead th {\n",
       "        text-align: right;\n",
       "    }\n",
       "</style>\n",
       "<table border=\"1\" class=\"dataframe\">\n",
       "  <thead>\n",
       "    <tr style=\"text-align: right;\">\n",
       "      <th></th>\n",
       "      <th>Date</th>\n",
       "      <th>Symbol</th>\n",
       "      <th>Open</th>\n",
       "      <th>High</th>\n",
       "      <th>Low</th>\n",
       "      <th>Close</th>\n",
       "      <th>Volume ETH</th>\n",
       "      <th>Volume USD</th>\n",
       "    </tr>\n",
       "  </thead>\n",
       "  <tbody>\n",
       "    <tr>\n",
       "      <th>0</th>\n",
       "      <td>2020-04-15</td>\n",
       "      <td>ETHUSD</td>\n",
       "      <td>158.61</td>\n",
       "      <td>158.61</td>\n",
       "      <td>158.61</td>\n",
       "      <td>158.61</td>\n",
       "      <td>0.00</td>\n",
       "      <td>0.00</td>\n",
       "    </tr>\n",
       "    <tr>\n",
       "      <th>1</th>\n",
       "      <td>2020-04-14</td>\n",
       "      <td>ETHUSD</td>\n",
       "      <td>156.97</td>\n",
       "      <td>162.15</td>\n",
       "      <td>155.74</td>\n",
       "      <td>158.61</td>\n",
       "      <td>18061.58</td>\n",
       "      <td>2872210.44</td>\n",
       "    </tr>\n",
       "  </tbody>\n",
       "</table>\n",
       "</div>"
      ],
      "text/plain": [
       "         Date  Symbol    Open    High     Low   Close  Volume ETH  Volume USD\n",
       "0  2020-04-15  ETHUSD  158.61  158.61  158.61  158.61        0.00        0.00\n",
       "1  2020-04-14  ETHUSD  156.97  162.15  155.74  158.61    18061.58  2872210.44"
      ]
     },
     "execution_count": 28,
     "metadata": {},
     "output_type": "execute_result"
    }
   ],
   "source": [
    "ETH = pd.read_csv(\"ETH_day.csv\")\n",
    "ETH.head(2)"
   ]
  },
  {
   "cell_type": "code",
   "execution_count": 29,
   "id": "personal-concert",
   "metadata": {},
   "outputs": [
    {
     "data": {
      "text/plain": [
       "('2016-05-09', '2020-04-15')"
      ]
     },
     "execution_count": 29,
     "metadata": {},
     "output_type": "execute_result"
    }
   ],
   "source": [
    "ETH.Date.min(), ETH.Date.max()"
   ]
  },
  {
   "cell_type": "code",
   "execution_count": 30,
   "id": "purple-closure",
   "metadata": {},
   "outputs": [],
   "source": [
    "ETH['Date'] = pd.to_datetime(ETH['Date'])"
   ]
  },
  {
   "cell_type": "code",
   "execution_count": 31,
   "id": "accessory-award",
   "metadata": {},
   "outputs": [
    {
     "data": {
      "text/html": [
       "<div>\n",
       "<style scoped>\n",
       "    .dataframe tbody tr th:only-of-type {\n",
       "        vertical-align: middle;\n",
       "    }\n",
       "\n",
       "    .dataframe tbody tr th {\n",
       "        vertical-align: top;\n",
       "    }\n",
       "\n",
       "    .dataframe thead th {\n",
       "        text-align: right;\n",
       "    }\n",
       "</style>\n",
       "<table border=\"1\" class=\"dataframe\">\n",
       "  <thead>\n",
       "    <tr style=\"text-align: right;\">\n",
       "      <th></th>\n",
       "      <th>Date</th>\n",
       "      <th>Symbol</th>\n",
       "      <th>Open</th>\n",
       "      <th>High</th>\n",
       "      <th>Low</th>\n",
       "      <th>Close</th>\n",
       "      <th>Volume ETH</th>\n",
       "      <th>Volume USD</th>\n",
       "    </tr>\n",
       "  </thead>\n",
       "  <tbody>\n",
       "    <tr>\n",
       "      <th>0</th>\n",
       "      <td>2020-04-15</td>\n",
       "      <td>ETHUSD</td>\n",
       "      <td>158.61</td>\n",
       "      <td>158.61</td>\n",
       "      <td>158.61</td>\n",
       "      <td>158.61</td>\n",
       "      <td>0.00</td>\n",
       "      <td>0.00</td>\n",
       "    </tr>\n",
       "    <tr>\n",
       "      <th>1</th>\n",
       "      <td>2020-04-14</td>\n",
       "      <td>ETHUSD</td>\n",
       "      <td>156.97</td>\n",
       "      <td>162.15</td>\n",
       "      <td>155.74</td>\n",
       "      <td>158.61</td>\n",
       "      <td>18061.58</td>\n",
       "      <td>2872210.44</td>\n",
       "    </tr>\n",
       "  </tbody>\n",
       "</table>\n",
       "</div>"
      ],
      "text/plain": [
       "        Date  Symbol    Open    High     Low   Close  Volume ETH  Volume USD\n",
       "0 2020-04-15  ETHUSD  158.61  158.61  158.61  158.61        0.00        0.00\n",
       "1 2020-04-14  ETHUSD  156.97  162.15  155.74  158.61    18061.58  2872210.44"
      ]
     },
     "execution_count": 31,
     "metadata": {},
     "output_type": "execute_result"
    }
   ],
   "source": [
    "ETH.head(2)"
   ]
  },
  {
   "cell_type": "code",
   "execution_count": 32,
   "id": "supreme-paste",
   "metadata": {},
   "outputs": [
    {
     "data": {
      "text/html": [
       "<div>\n",
       "<style scoped>\n",
       "    .dataframe tbody tr th:only-of-type {\n",
       "        vertical-align: middle;\n",
       "    }\n",
       "\n",
       "    .dataframe tbody tr th {\n",
       "        vertical-align: top;\n",
       "    }\n",
       "\n",
       "    .dataframe thead th {\n",
       "        text-align: right;\n",
       "    }\n",
       "</style>\n",
       "<table border=\"1\" class=\"dataframe\">\n",
       "  <thead>\n",
       "    <tr style=\"text-align: right;\">\n",
       "      <th></th>\n",
       "      <th>Date</th>\n",
       "      <th>Symbol</th>\n",
       "      <th>Open</th>\n",
       "      <th>High</th>\n",
       "      <th>Low</th>\n",
       "      <th>Close</th>\n",
       "      <th>Volume ETH</th>\n",
       "      <th>Volume USD</th>\n",
       "      <th>MA5</th>\n",
       "    </tr>\n",
       "  </thead>\n",
       "  <tbody>\n",
       "    <tr>\n",
       "      <th>1437</th>\n",
       "      <td>2016-05-09</td>\n",
       "      <td>ETHUSD</td>\n",
       "      <td>12.00</td>\n",
       "      <td>12.00</td>\n",
       "      <td>9.36</td>\n",
       "      <td>9.98</td>\n",
       "      <td>1317.90</td>\n",
       "      <td>12885.06</td>\n",
       "      <td>NaN</td>\n",
       "    </tr>\n",
       "    <tr>\n",
       "      <th>1436</th>\n",
       "      <td>2016-05-10</td>\n",
       "      <td>ETHUSD</td>\n",
       "      <td>9.98</td>\n",
       "      <td>9.98</td>\n",
       "      <td>9.36</td>\n",
       "      <td>9.68</td>\n",
       "      <td>672.06</td>\n",
       "      <td>6578.20</td>\n",
       "      <td>NaN</td>\n",
       "    </tr>\n",
       "  </tbody>\n",
       "</table>\n",
       "</div>"
      ],
      "text/plain": [
       "           Date  Symbol   Open   High   Low  Close  Volume ETH  Volume USD  \\\n",
       "1437 2016-05-09  ETHUSD  12.00  12.00  9.36   9.98     1317.90    12885.06   \n",
       "1436 2016-05-10  ETHUSD   9.98   9.98  9.36   9.68      672.06     6578.20   \n",
       "\n",
       "      MA5  \n",
       "1437  NaN  \n",
       "1436  NaN  "
      ]
     },
     "metadata": {},
     "output_type": "display_data"
    }
   ],
   "source": [
    "ETH.sort_values(['Date'],inplace=True)\n",
    "ETH[\"MA5\"] = ETH['Open'].rolling(window=5).mean()\n",
    "display(ETH.head(2))"
   ]
  },
  {
   "cell_type": "code",
   "execution_count": 33,
   "id": "acting-relation",
   "metadata": {},
   "outputs": [],
   "source": [
    "ETH['YM'] = ETH['Date'].dt.strftime('%Y-%m')"
   ]
  },
  {
   "cell_type": "code",
   "execution_count": 34,
   "id": "accomplished-registrar",
   "metadata": {},
   "outputs": [
    {
     "data": {
      "text/plain": [
       "(1438, 10)"
      ]
     },
     "metadata": {},
     "output_type": "display_data"
    },
    {
     "data": {
      "text/plain": [
       "(395, 10)"
      ]
     },
     "metadata": {},
     "output_type": "display_data"
    }
   ],
   "source": [
    "display(ETH.shape)\n",
    "ETH = ETH[(\"2016-06-01\" <= ETH['Date'])& (ETH['Date'] <= \"2017-06-30\")] # 2016.6 ~ 2017.6\n",
    "display(ETH.shape)"
   ]
  },
  {
   "cell_type": "code",
   "execution_count": 35,
   "id": "unexpected-storage",
   "metadata": {},
   "outputs": [
    {
     "data": {
      "text/html": [
       "<div>\n",
       "<style scoped>\n",
       "    .dataframe tbody tr th:only-of-type {\n",
       "        vertical-align: middle;\n",
       "    }\n",
       "\n",
       "    .dataframe tbody tr th {\n",
       "        vertical-align: top;\n",
       "    }\n",
       "\n",
       "    .dataframe thead th {\n",
       "        text-align: right;\n",
       "    }\n",
       "</style>\n",
       "<table border=\"1\" class=\"dataframe\">\n",
       "  <thead>\n",
       "    <tr style=\"text-align: right;\">\n",
       "      <th></th>\n",
       "      <th>Date</th>\n",
       "      <th>Symbol</th>\n",
       "      <th>Open</th>\n",
       "      <th>High</th>\n",
       "      <th>Low</th>\n",
       "      <th>Close</th>\n",
       "      <th>Volume ETH</th>\n",
       "      <th>Volume USD</th>\n",
       "      <th>MA5</th>\n",
       "      <th>YM</th>\n",
       "    </tr>\n",
       "  </thead>\n",
       "  <tbody>\n",
       "    <tr>\n",
       "      <th>1414</th>\n",
       "      <td>2016-06-01</td>\n",
       "      <td>ETHUSD</td>\n",
       "      <td>14.18</td>\n",
       "      <td>14.35</td>\n",
       "      <td>13.54</td>\n",
       "      <td>13.95</td>\n",
       "      <td>6390.06</td>\n",
       "      <td>89027.81</td>\n",
       "      <td>12.514</td>\n",
       "      <td>2016-06</td>\n",
       "    </tr>\n",
       "    <tr>\n",
       "      <th>1413</th>\n",
       "      <td>2016-06-02</td>\n",
       "      <td>ETHUSD</td>\n",
       "      <td>13.95</td>\n",
       "      <td>14.13</td>\n",
       "      <td>13.82</td>\n",
       "      <td>13.90</td>\n",
       "      <td>942.85</td>\n",
       "      <td>13180.38</td>\n",
       "      <td>13.026</td>\n",
       "      <td>2016-06</td>\n",
       "    </tr>\n",
       "  </tbody>\n",
       "</table>\n",
       "</div>"
      ],
      "text/plain": [
       "           Date  Symbol   Open   High    Low  Close  Volume ETH  Volume USD  \\\n",
       "1414 2016-06-01  ETHUSD  14.18  14.35  13.54  13.95     6390.06    89027.81   \n",
       "1413 2016-06-02  ETHUSD  13.95  14.13  13.82  13.90      942.85    13180.38   \n",
       "\n",
       "         MA5       YM  \n",
       "1414  12.514  2016-06  \n",
       "1413  13.026  2016-06  "
      ]
     },
     "metadata": {},
     "output_type": "display_data"
    },
    {
     "data": {
      "text/html": [
       "<div>\n",
       "<style scoped>\n",
       "    .dataframe tbody tr th:only-of-type {\n",
       "        vertical-align: middle;\n",
       "    }\n",
       "\n",
       "    .dataframe tbody tr th {\n",
       "        vertical-align: top;\n",
       "    }\n",
       "\n",
       "    .dataframe thead th {\n",
       "        text-align: right;\n",
       "    }\n",
       "</style>\n",
       "<table border=\"1\" class=\"dataframe\">\n",
       "  <thead>\n",
       "    <tr style=\"text-align: right;\">\n",
       "      <th></th>\n",
       "      <th>Date</th>\n",
       "      <th>Symbol</th>\n",
       "      <th>Open</th>\n",
       "      <th>High</th>\n",
       "      <th>Low</th>\n",
       "      <th>Close</th>\n",
       "      <th>Volume ETH</th>\n",
       "      <th>Volume USD</th>\n",
       "      <th>MA5</th>\n",
       "      <th>YM</th>\n",
       "    </tr>\n",
       "  </thead>\n",
       "  <tbody>\n",
       "    <tr>\n",
       "      <th>1021</th>\n",
       "      <td>2017-06-29</td>\n",
       "      <td>ETHUSD</td>\n",
       "      <td>317.59</td>\n",
       "      <td>322.84</td>\n",
       "      <td>285.23</td>\n",
       "      <td>293.8</td>\n",
       "      <td>152271.32</td>\n",
       "      <td>46521350.06</td>\n",
       "      <td>288.066</td>\n",
       "      <td>2017-06</td>\n",
       "    </tr>\n",
       "    <tr>\n",
       "      <th>1020</th>\n",
       "      <td>2017-06-30</td>\n",
       "      <td>ETHUSD</td>\n",
       "      <td>293.80</td>\n",
       "      <td>304.94</td>\n",
       "      <td>270.77</td>\n",
       "      <td>280.8</td>\n",
       "      <td>146545.22</td>\n",
       "      <td>42337469.59</td>\n",
       "      <td>285.866</td>\n",
       "      <td>2017-06</td>\n",
       "    </tr>\n",
       "  </tbody>\n",
       "</table>\n",
       "</div>"
      ],
      "text/plain": [
       "           Date  Symbol    Open    High     Low  Close  Volume ETH  \\\n",
       "1021 2017-06-29  ETHUSD  317.59  322.84  285.23  293.8   152271.32   \n",
       "1020 2017-06-30  ETHUSD  293.80  304.94  270.77  280.8   146545.22   \n",
       "\n",
       "       Volume USD      MA5       YM  \n",
       "1021  46521350.06  288.066  2017-06  \n",
       "1020  42337469.59  285.866  2017-06  "
      ]
     },
     "metadata": {},
     "output_type": "display_data"
    },
    {
     "data": {
      "text/plain": [
       "Timestamp('2016-06-01 00:00:00')"
      ]
     },
     "metadata": {},
     "output_type": "display_data"
    },
    {
     "data": {
      "text/plain": [
       "Timestamp('2017-06-30 00:00:00')"
      ]
     },
     "metadata": {},
     "output_type": "display_data"
    }
   ],
   "source": [
    "# head and tail로 정확히 나오는지 확인, min, max로도\n",
    "display(ETH.head(2))\n",
    "display(ETH.tail(2))\n",
    "display(ETH['Date'].min(), ETH['Date'].max())"
   ]
  },
  {
   "cell_type": "markdown",
   "id": "ongoing-display",
   "metadata": {},
   "source": [
    "### **Plotting**"
   ]
  },
  {
   "cell_type": "code",
   "execution_count": 36,
   "id": "above-truck",
   "metadata": {},
   "outputs": [
    {
     "data": {
      "image/png": "[encoded data removed]",
      "text/plain": [
       "<Figure size 1440x360 with 1 Axes>"
      ]
     },
     "metadata": {
      "needs_background": "light"
     },
     "output_type": "display_data"
    }
   ],
   "source": [
    "plt.figure(figsize=(20, 5))\n",
    "\n",
    "sns.lineplot(df['YM'], df['MA5'],color=\"#f2a900\", ci=0, label='BTC')\n",
    "sns.lineplot(ETH['YM'], ETH['MA5'],color=\"#3c3c3d\", ci=0, label='ETH')\n",
    "plt.title(\"MA(5) BTC & ETH Y-M from 2016-06 to 2017-06\", fontsize=20)\n",
    "plt.grid(alpha=0.33)\n",
    "plt.show();"
   ]
  },
  {
   "cell_type": "code",
   "execution_count": 37,
   "id": "legitimate-startup",
   "metadata": {},
   "outputs": [
    {
     "data": {
      "image/png": "[encoded data removed]",
      "text/plain": [
       "<Figure size 1440x360 with 1 Axes>"
      ]
     },
     "metadata": {
      "needs_background": "light"
     },
     "output_type": "display_data"
    }
   ],
   "source": [
    "plt.figure(figsize=(20, 5))\n",
    "sns.lineplot(df['Date'], df['MA5'],color=\"#f2a900\", ci=0, label='BTC')\n",
    "sns.lineplot(ETH['Date'], ETH['MA5'],color=\"#3c3c3d\", ci=0, label='ETH')\n",
    "plt.title(\"BTC & ETH Y-M from 2016-06 to 2017-06\", fontsize=20)\n",
    "plt.grid(alpha=0.33)\n",
    "plt.show();"
   ]
  },
  {
   "cell_type": "code",
   "execution_count": 38,
   "id": "normal-savings",
   "metadata": {},
   "outputs": [
    {
     "data": {
      "image/png": "[encoded data removed]",
      "text/plain": [
       "<Figure size 1440x360 with 1 Axes>"
      ]
     },
     "metadata": {
      "needs_background": "light"
     },
     "output_type": "display_data"
    }
   ],
   "source": [
    "plt.figure(figsize=(20, 5))\n",
    "sns.lineplot(df['Date'], df['MA5'],color=\"#f2a900\", ci=0, label='BTC')\n",
    "sns.lineplot(ETH['Date'], ETH['MA5'],color=\"#3c3c3d\", ci=0, label='ETH')\n",
    "plt.title(\"BTC & ETH Y-M from 2016-06 to 2017-06\", fontsize=20)\n",
    "plt.grid(alpha=0.33)\n",
    "plt.show();"
   ]
  },
  {
   "cell_type": "markdown",
   "id": "assured-portable",
   "metadata": {},
   "source": [
    "#### **FacetGrid Plot**"
   ]
  },
  {
   "cell_type": "code",
   "execution_count": 39,
   "id": "modern-queens",
   "metadata": {},
   "outputs": [
    {
     "data": {
      "text/html": [
       "<div>\n",
       "<style scoped>\n",
       "    .dataframe tbody tr th:only-of-type {\n",
       "        vertical-align: middle;\n",
       "    }\n",
       "\n",
       "    .dataframe tbody tr th {\n",
       "        vertical-align: top;\n",
       "    }\n",
       "\n",
       "    .dataframe thead th {\n",
       "        text-align: right;\n",
       "    }\n",
       "</style>\n",
       "<table border=\"1\" class=\"dataframe\">\n",
       "  <thead>\n",
       "    <tr style=\"text-align: right;\">\n",
       "      <th></th>\n",
       "      <th>Date</th>\n",
       "      <th>Open</th>\n",
       "      <th>High</th>\n",
       "      <th>Low</th>\n",
       "      <th>Close</th>\n",
       "      <th>Volume</th>\n",
       "      <th>Market Cap</th>\n",
       "      <th>MA5</th>\n",
       "      <th>YM</th>\n",
       "    </tr>\n",
       "  </thead>\n",
       "  <tbody>\n",
       "    <tr>\n",
       "      <th>625</th>\n",
       "      <td>2016-06-01</td>\n",
       "      <td>431.86</td>\n",
       "      <td>431.86</td>\n",
       "      <td>426.34</td>\n",
       "      <td>429.11</td>\n",
       "      <td>34042500.0</td>\n",
       "      <td>6498830000</td>\n",
       "      <td>499.006</td>\n",
       "      <td>2016-06</td>\n",
       "    </tr>\n",
       "    <tr>\n",
       "      <th>594</th>\n",
       "      <td>2016-06-02</td>\n",
       "      <td>386.59</td>\n",
       "      <td>386.63</td>\n",
       "      <td>372.39</td>\n",
       "      <td>376.52</td>\n",
       "      <td>49249300.0</td>\n",
       "      <td>5865740000</td>\n",
       "      <td>481.718</td>\n",
       "      <td>2016-06</td>\n",
       "    </tr>\n",
       "  </tbody>\n",
       "</table>\n",
       "</div>"
      ],
      "text/plain": [
       "          Date    Open    High     Low   Close      Volume  Market Cap  \\\n",
       "625 2016-06-01  431.86  431.86  426.34  429.11  34042500.0  6498830000   \n",
       "594 2016-06-02  386.59  386.63  372.39  376.52  49249300.0  5865740000   \n",
       "\n",
       "         MA5       YM  \n",
       "625  499.006  2016-06  \n",
       "594  481.718  2016-06  "
      ]
     },
     "execution_count": 39,
     "metadata": {},
     "output_type": "execute_result"
    }
   ],
   "source": [
    "df.head(2)"
   ]
  },
  {
   "cell_type": "code",
   "execution_count": 40,
   "id": "legislative-comparison",
   "metadata": {},
   "outputs": [],
   "source": [
    "df['day'] = df[\"Date\"].dt.day\n",
    "ETH['day'] = ETH[\"Date\"].dt.day"
   ]
  },
  {
   "cell_type": "code",
   "execution_count": 41,
   "id": "wired-graphic",
   "metadata": {},
   "outputs": [
    {
     "data": {
      "text/html": [
       "<div>\n",
       "<style scoped>\n",
       "    .dataframe tbody tr th:only-of-type {\n",
       "        vertical-align: middle;\n",
       "    }\n",
       "\n",
       "    .dataframe tbody tr th {\n",
       "        vertical-align: top;\n",
       "    }\n",
       "\n",
       "    .dataframe thead th {\n",
       "        text-align: right;\n",
       "    }\n",
       "</style>\n",
       "<table border=\"1\" class=\"dataframe\">\n",
       "  <thead>\n",
       "    <tr style=\"text-align: right;\">\n",
       "      <th></th>\n",
       "      <th>Date</th>\n",
       "      <th>Open</th>\n",
       "      <th>High</th>\n",
       "      <th>Low</th>\n",
       "      <th>Close</th>\n",
       "      <th>Volume</th>\n",
       "      <th>Market Cap</th>\n",
       "      <th>MA5</th>\n",
       "      <th>YM</th>\n",
       "      <th>day</th>\n",
       "    </tr>\n",
       "  </thead>\n",
       "  <tbody>\n",
       "    <tr>\n",
       "      <th>625</th>\n",
       "      <td>2016-06-01</td>\n",
       "      <td>431.86</td>\n",
       "      <td>431.86</td>\n",
       "      <td>426.34</td>\n",
       "      <td>429.11</td>\n",
       "      <td>34042500.0</td>\n",
       "      <td>6498830000</td>\n",
       "      <td>499.006</td>\n",
       "      <td>2016-06</td>\n",
       "      <td>1</td>\n",
       "    </tr>\n",
       "    <tr>\n",
       "      <th>594</th>\n",
       "      <td>2016-06-02</td>\n",
       "      <td>386.59</td>\n",
       "      <td>386.63</td>\n",
       "      <td>372.39</td>\n",
       "      <td>376.52</td>\n",
       "      <td>49249300.0</td>\n",
       "      <td>5865740000</td>\n",
       "      <td>481.718</td>\n",
       "      <td>2016-06</td>\n",
       "      <td>2</td>\n",
       "    </tr>\n",
       "  </tbody>\n",
       "</table>\n",
       "</div>"
      ],
      "text/plain": [
       "          Date    Open    High     Low   Close      Volume  Market Cap  \\\n",
       "625 2016-06-01  431.86  431.86  426.34  429.11  34042500.0  6498830000   \n",
       "594 2016-06-02  386.59  386.63  372.39  376.52  49249300.0  5865740000   \n",
       "\n",
       "         MA5       YM  day  \n",
       "625  499.006  2016-06    1  \n",
       "594  481.718  2016-06    2  "
      ]
     },
     "execution_count": 41,
     "metadata": {},
     "output_type": "execute_result"
    }
   ],
   "source": [
    "df.head(2)"
   ]
  },
  {
   "cell_type": "code",
   "execution_count": 42,
   "id": "generous-withdrawal",
   "metadata": {},
   "outputs": [
    {
     "data": {
      "image/png": "[encoded data removed]",
      "text/plain": [
       "<Figure size 1008x288 with 13 Axes>"
      ]
     },
     "metadata": {
      "needs_background": "light"
     },
     "output_type": "display_data"
    }
   ],
   "source": [
    "grid = sns.FacetGrid(df, col=\"YM\", hue=\"YM\", palette=\"tab20c\",\n",
    "                     col_wrap=7, height=2);\n",
    "grid.map(sns.lineplot, \"day\", \"MA5\")\n",
    "grid.fig.suptitle(\"BTC Y-M FacetGrid\", size=16)\n",
    "grid.fig.subplots_adjust(top=.85)"
   ]
  },
  {
   "cell_type": "code",
   "execution_count": 43,
   "id": "technical-recovery",
   "metadata": {},
   "outputs": [
    {
     "data": {
      "image/png": "[encoded data removed]",
      "text/plain": [
       "<Figure size 1008x288 with 13 Axes>"
      ]
     },
     "metadata": {
      "needs_background": "light"
     },
     "output_type": "display_data"
    }
   ],
   "source": [
    "grid = sns.FacetGrid(ETH, col=\"YM\", hue=\"YM\", palette=\"tab20c\",\n",
    "                     col_wrap=7, height=2);\n",
    "grid.map(sns.lineplot, \"day\", \"MA5\")\n",
    "grid.fig.suptitle(\"ETH Y-M FacetGrid\", size=16)\n",
    "grid.fig.subplots_adjust(top=.85)"
   ]
  },
  {
   "cell_type": "code",
   "execution_count": 44,
   "id": "funded-gospel",
   "metadata": {},
   "outputs": [
    {
     "data": {
      "text/html": [
       "<div>\n",
       "<style scoped>\n",
       "    .dataframe tbody tr th:only-of-type {\n",
       "        vertical-align: middle;\n",
       "    }\n",
       "\n",
       "    .dataframe tbody tr th {\n",
       "        vertical-align: top;\n",
       "    }\n",
       "\n",
       "    .dataframe thead th {\n",
       "        text-align: right;\n",
       "    }\n",
       "</style>\n",
       "<table border=\"1\" class=\"dataframe\">\n",
       "  <thead>\n",
       "    <tr style=\"text-align: right;\">\n",
       "      <th></th>\n",
       "      <th>Date</th>\n",
       "      <th>Open</th>\n",
       "      <th>High</th>\n",
       "      <th>Low</th>\n",
       "      <th>Close</th>\n",
       "      <th>Volume</th>\n",
       "      <th>Market Cap</th>\n",
       "      <th>MA5</th>\n",
       "      <th>YM</th>\n",
       "      <th>day</th>\n",
       "    </tr>\n",
       "  </thead>\n",
       "  <tbody>\n",
       "    <tr>\n",
       "      <th>625</th>\n",
       "      <td>2016-06-01</td>\n",
       "      <td>431.86</td>\n",
       "      <td>431.86</td>\n",
       "      <td>426.34</td>\n",
       "      <td>429.11</td>\n",
       "      <td>34042500.0</td>\n",
       "      <td>6498830000</td>\n",
       "      <td>499.006</td>\n",
       "      <td>2016-06</td>\n",
       "      <td>1</td>\n",
       "    </tr>\n",
       "    <tr>\n",
       "      <th>594</th>\n",
       "      <td>2016-06-02</td>\n",
       "      <td>386.59</td>\n",
       "      <td>386.63</td>\n",
       "      <td>372.39</td>\n",
       "      <td>376.52</td>\n",
       "      <td>49249300.0</td>\n",
       "      <td>5865740000</td>\n",
       "      <td>481.718</td>\n",
       "      <td>2016-06</td>\n",
       "      <td>2</td>\n",
       "    </tr>\n",
       "  </tbody>\n",
       "</table>\n",
       "</div>"
      ],
      "text/plain": [
       "          Date    Open    High     Low   Close      Volume  Market Cap  \\\n",
       "625 2016-06-01  431.86  431.86  426.34  429.11  34042500.0  6498830000   \n",
       "594 2016-06-02  386.59  386.63  372.39  376.52  49249300.0  5865740000   \n",
       "\n",
       "         MA5       YM  day  \n",
       "625  499.006  2016-06    1  \n",
       "594  481.718  2016-06    2  "
      ]
     },
     "metadata": {},
     "output_type": "display_data"
    },
    {
     "data": {
      "text/html": [
       "<div>\n",
       "<style scoped>\n",
       "    .dataframe tbody tr th:only-of-type {\n",
       "        vertical-align: middle;\n",
       "    }\n",
       "\n",
       "    .dataframe tbody tr th {\n",
       "        vertical-align: top;\n",
       "    }\n",
       "\n",
       "    .dataframe thead th {\n",
       "        text-align: right;\n",
       "    }\n",
       "</style>\n",
       "<table border=\"1\" class=\"dataframe\">\n",
       "  <thead>\n",
       "    <tr style=\"text-align: right;\">\n",
       "      <th></th>\n",
       "      <th>Date</th>\n",
       "      <th>Symbol</th>\n",
       "      <th>Open</th>\n",
       "      <th>High</th>\n",
       "      <th>Low</th>\n",
       "      <th>Close</th>\n",
       "      <th>Volume ETH</th>\n",
       "      <th>Volume USD</th>\n",
       "      <th>MA5</th>\n",
       "      <th>YM</th>\n",
       "      <th>day</th>\n",
       "    </tr>\n",
       "  </thead>\n",
       "  <tbody>\n",
       "    <tr>\n",
       "      <th>1414</th>\n",
       "      <td>2016-06-01</td>\n",
       "      <td>ETHUSD</td>\n",
       "      <td>14.18</td>\n",
       "      <td>14.35</td>\n",
       "      <td>13.54</td>\n",
       "      <td>13.95</td>\n",
       "      <td>6390.06</td>\n",
       "      <td>89027.81</td>\n",
       "      <td>12.514</td>\n",
       "      <td>2016-06</td>\n",
       "      <td>1</td>\n",
       "    </tr>\n",
       "    <tr>\n",
       "      <th>1413</th>\n",
       "      <td>2016-06-02</td>\n",
       "      <td>ETHUSD</td>\n",
       "      <td>13.95</td>\n",
       "      <td>14.13</td>\n",
       "      <td>13.82</td>\n",
       "      <td>13.90</td>\n",
       "      <td>942.85</td>\n",
       "      <td>13180.38</td>\n",
       "      <td>13.026</td>\n",
       "      <td>2016-06</td>\n",
       "      <td>2</td>\n",
       "    </tr>\n",
       "  </tbody>\n",
       "</table>\n",
       "</div>"
      ],
      "text/plain": [
       "           Date  Symbol   Open   High    Low  Close  Volume ETH  Volume USD  \\\n",
       "1414 2016-06-01  ETHUSD  14.18  14.35  13.54  13.95     6390.06    89027.81   \n",
       "1413 2016-06-02  ETHUSD  13.95  14.13  13.82  13.90      942.85    13180.38   \n",
       "\n",
       "         MA5       YM  day  \n",
       "1414  12.514  2016-06    1  \n",
       "1413  13.026  2016-06    2  "
      ]
     },
     "metadata": {},
     "output_type": "display_data"
    }
   ],
   "source": [
    "display(df.head(2))\n",
    "display(ETH.head(2))"
   ]
  },
  {
   "cell_type": "code",
   "execution_count": 45,
   "id": "proof-screw",
   "metadata": {},
   "outputs": [],
   "source": [
    "df['Coin'] = \"BTC\"\n",
    "ETH['Coin'] = \"ETH\""
   ]
  },
  {
   "cell_type": "code",
   "execution_count": 46,
   "id": "durable-terrain",
   "metadata": {},
   "outputs": [
    {
     "data": {
      "text/plain": [
       "(377, 11)"
      ]
     },
     "metadata": {},
     "output_type": "display_data"
    },
    {
     "data": {
      "text/plain": [
       "(395, 12)"
      ]
     },
     "metadata": {},
     "output_type": "display_data"
    }
   ],
   "source": [
    "display(df.shape)\n",
    "display(ETH.shape)"
   ]
  },
  {
   "cell_type": "code",
   "execution_count": 47,
   "id": "postal-celtic",
   "metadata": {},
   "outputs": [
    {
     "data": {
      "text/plain": [
       "(772, 15)"
      ]
     },
     "execution_count": 47,
     "metadata": {},
     "output_type": "execute_result"
    }
   ],
   "source": [
    "total = pd.concat([df, ETH])\n",
    "total.reset_index(inplace=True)\n",
    "total.shape"
   ]
  },
  {
   "cell_type": "code",
   "execution_count": 48,
   "id": "conditional-terry",
   "metadata": {},
   "outputs": [
    {
     "data": {
      "image/png": "[encoded data removed]",
      "text/plain": [
       "<Figure size 1008x288 with 13 Axes>"
      ]
     },
     "metadata": {
      "needs_background": "light"
     },
     "output_type": "display_data"
    }
   ],
   "source": [
    "d = {'color': ['#f2a900', '#3c3c3d']}\n",
    "grid = sns.FacetGrid(total, col=\"YM\", hue=\"Coin\", hue_kws=d,\n",
    "                     col_wrap=7, height=2);\n",
    "grid.map(sns.lineplot, \"day\", \"MA5\",ci=0,marker=\".\")\n",
    "grid.fig.suptitle(\"total Y-M FacetGrid\", size=16)\n",
    "grid.fig.subplots_adjust(top=.85)"
   ]
  },
  {
   "cell_type": "markdown",
   "id": "norwegian-ready",
   "metadata": {},
   "source": [
    "> BTC vs ETH img ref: <https://www.simplilearn.com/tutorials/blockchain-tutorial/ethereum-vs-bitcoin>"
   ]
  },
  {
   "cell_type": "markdown",
   "id": "assigned-north",
   "metadata": {},
   "source": [
    "4년 전의 나에게:  \n",
    "영끌해서 2016년도에 BTC, ETH 사렴"
   ]
  }
 ],
 "metadata": {
  "kernelspec": {
   "display_name": "Python 3.7.5 64-bit ('pytorch': conda)",
   "language": "python",
   "name": "python37564bitpytorchconda133dde54c45c40c2946593d30b593426"
  },
  "language_info": {
   "codemirror_mode": {
    "name": "ipython",
    "version": 3
   },
   "file_extension": ".py",
   "mimetype": "text/x-python",
   "name": "python",
   "nbconvert_exporter": "python",
   "pygments_lexer": "ipython3",
   "version": "3.7.10"
  }
 },
 "nbformat": 4,
 "nbformat_minor": 5
}
